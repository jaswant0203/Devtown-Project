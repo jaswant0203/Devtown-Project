{
 "cells": [
  {
   "cell_type": "markdown",
   "id": "ae2904b6",
   "metadata": {},
   "source": [
    "# Jaswant Singh \n",
    "**Project:**\n",
    "**The Flight Fare Data Analysis And Price prediction Model**"
   ]
  },
  {
   "cell_type": "code",
   "execution_count": 1,
   "id": "54b7cd5c",
   "metadata": {},
   "outputs": [],
   "source": [
    "import numpy as np\n",
    "import pandas as pd\n",
    "import seaborn as sns\n",
    "import matplotlib.pyplot as plt"
   ]
  },
  {
   "cell_type": "code",
   "execution_count": 2,
   "id": "88968746",
   "metadata": {},
   "outputs": [],
   "source": [
    "flightfare = pd.read_csv(\"flight.csv\")"
   ]
  },
  {
   "cell_type": "code",
   "execution_count": 3,
   "id": "e9dde762",
   "metadata": {},
   "outputs": [
    {
     "data": {
      "text/html": [
       "<div>\n",
       "<style scoped>\n",
       "    .dataframe tbody tr th:only-of-type {\n",
       "        vertical-align: middle;\n",
       "    }\n",
       "\n",
       "    .dataframe tbody tr th {\n",
       "        vertical-align: top;\n",
       "    }\n",
       "\n",
       "    .dataframe thead th {\n",
       "        text-align: right;\n",
       "    }\n",
       "</style>\n",
       "<table border=\"1\" class=\"dataframe\">\n",
       "  <thead>\n",
       "    <tr style=\"text-align: right;\">\n",
       "      <th></th>\n",
       "      <th>Unnamed: 0</th>\n",
       "      <th>airline</th>\n",
       "      <th>flight</th>\n",
       "      <th>source_city</th>\n",
       "      <th>departure_time</th>\n",
       "      <th>stops</th>\n",
       "      <th>arrival_time</th>\n",
       "      <th>destination_city</th>\n",
       "      <th>class</th>\n",
       "      <th>duration</th>\n",
       "      <th>days_left</th>\n",
       "      <th>price</th>\n",
       "    </tr>\n",
       "  </thead>\n",
       "  <tbody>\n",
       "    <tr>\n",
       "      <th>0</th>\n",
       "      <td>0</td>\n",
       "      <td>SpiceJet</td>\n",
       "      <td>SG-8709</td>\n",
       "      <td>Delhi</td>\n",
       "      <td>Evening</td>\n",
       "      <td>zero</td>\n",
       "      <td>Night</td>\n",
       "      <td>Mumbai</td>\n",
       "      <td>Economy</td>\n",
       "      <td>2.17</td>\n",
       "      <td>1</td>\n",
       "      <td>5953</td>\n",
       "    </tr>\n",
       "    <tr>\n",
       "      <th>1</th>\n",
       "      <td>1</td>\n",
       "      <td>SpiceJet</td>\n",
       "      <td>SG-8157</td>\n",
       "      <td>Delhi</td>\n",
       "      <td>Early_Morning</td>\n",
       "      <td>zero</td>\n",
       "      <td>Morning</td>\n",
       "      <td>Mumbai</td>\n",
       "      <td>Economy</td>\n",
       "      <td>2.33</td>\n",
       "      <td>1</td>\n",
       "      <td>5953</td>\n",
       "    </tr>\n",
       "    <tr>\n",
       "      <th>2</th>\n",
       "      <td>2</td>\n",
       "      <td>AirAsia</td>\n",
       "      <td>I5-764</td>\n",
       "      <td>Delhi</td>\n",
       "      <td>Early_Morning</td>\n",
       "      <td>zero</td>\n",
       "      <td>Early_Morning</td>\n",
       "      <td>Mumbai</td>\n",
       "      <td>Economy</td>\n",
       "      <td>2.17</td>\n",
       "      <td>1</td>\n",
       "      <td>5956</td>\n",
       "    </tr>\n",
       "    <tr>\n",
       "      <th>3</th>\n",
       "      <td>3</td>\n",
       "      <td>Vistara</td>\n",
       "      <td>UK-995</td>\n",
       "      <td>Delhi</td>\n",
       "      <td>Morning</td>\n",
       "      <td>zero</td>\n",
       "      <td>Afternoon</td>\n",
       "      <td>Mumbai</td>\n",
       "      <td>Economy</td>\n",
       "      <td>2.25</td>\n",
       "      <td>1</td>\n",
       "      <td>5955</td>\n",
       "    </tr>\n",
       "    <tr>\n",
       "      <th>4</th>\n",
       "      <td>4</td>\n",
       "      <td>Vistara</td>\n",
       "      <td>UK-963</td>\n",
       "      <td>Delhi</td>\n",
       "      <td>Morning</td>\n",
       "      <td>zero</td>\n",
       "      <td>Morning</td>\n",
       "      <td>Mumbai</td>\n",
       "      <td>Economy</td>\n",
       "      <td>2.33</td>\n",
       "      <td>1</td>\n",
       "      <td>5955</td>\n",
       "    </tr>\n",
       "    <tr>\n",
       "      <th>...</th>\n",
       "      <td>...</td>\n",
       "      <td>...</td>\n",
       "      <td>...</td>\n",
       "      <td>...</td>\n",
       "      <td>...</td>\n",
       "      <td>...</td>\n",
       "      <td>...</td>\n",
       "      <td>...</td>\n",
       "      <td>...</td>\n",
       "      <td>...</td>\n",
       "      <td>...</td>\n",
       "      <td>...</td>\n",
       "    </tr>\n",
       "    <tr>\n",
       "      <th>300148</th>\n",
       "      <td>300148</td>\n",
       "      <td>Vistara</td>\n",
       "      <td>UK-822</td>\n",
       "      <td>Chennai</td>\n",
       "      <td>Morning</td>\n",
       "      <td>one</td>\n",
       "      <td>Evening</td>\n",
       "      <td>Hyderabad</td>\n",
       "      <td>Business</td>\n",
       "      <td>10.08</td>\n",
       "      <td>49</td>\n",
       "      <td>69265</td>\n",
       "    </tr>\n",
       "    <tr>\n",
       "      <th>300149</th>\n",
       "      <td>300149</td>\n",
       "      <td>Vistara</td>\n",
       "      <td>UK-826</td>\n",
       "      <td>Chennai</td>\n",
       "      <td>Afternoon</td>\n",
       "      <td>one</td>\n",
       "      <td>Night</td>\n",
       "      <td>Hyderabad</td>\n",
       "      <td>Business</td>\n",
       "      <td>10.42</td>\n",
       "      <td>49</td>\n",
       "      <td>77105</td>\n",
       "    </tr>\n",
       "    <tr>\n",
       "      <th>300150</th>\n",
       "      <td>300150</td>\n",
       "      <td>Vistara</td>\n",
       "      <td>UK-832</td>\n",
       "      <td>Chennai</td>\n",
       "      <td>Early_Morning</td>\n",
       "      <td>one</td>\n",
       "      <td>Night</td>\n",
       "      <td>Hyderabad</td>\n",
       "      <td>Business</td>\n",
       "      <td>13.83</td>\n",
       "      <td>49</td>\n",
       "      <td>79099</td>\n",
       "    </tr>\n",
       "    <tr>\n",
       "      <th>300151</th>\n",
       "      <td>300151</td>\n",
       "      <td>Vistara</td>\n",
       "      <td>UK-828</td>\n",
       "      <td>Chennai</td>\n",
       "      <td>Early_Morning</td>\n",
       "      <td>one</td>\n",
       "      <td>Evening</td>\n",
       "      <td>Hyderabad</td>\n",
       "      <td>Business</td>\n",
       "      <td>10.00</td>\n",
       "      <td>49</td>\n",
       "      <td>81585</td>\n",
       "    </tr>\n",
       "    <tr>\n",
       "      <th>300152</th>\n",
       "      <td>300152</td>\n",
       "      <td>Vistara</td>\n",
       "      <td>UK-822</td>\n",
       "      <td>Chennai</td>\n",
       "      <td>Morning</td>\n",
       "      <td>one</td>\n",
       "      <td>Evening</td>\n",
       "      <td>Hyderabad</td>\n",
       "      <td>Business</td>\n",
       "      <td>10.08</td>\n",
       "      <td>49</td>\n",
       "      <td>81585</td>\n",
       "    </tr>\n",
       "  </tbody>\n",
       "</table>\n",
       "<p>300153 rows × 12 columns</p>\n",
       "</div>"
      ],
      "text/plain": [
       "        Unnamed: 0   airline   flight source_city departure_time stops  \\\n",
       "0                0  SpiceJet  SG-8709       Delhi        Evening  zero   \n",
       "1                1  SpiceJet  SG-8157       Delhi  Early_Morning  zero   \n",
       "2                2   AirAsia   I5-764       Delhi  Early_Morning  zero   \n",
       "3                3   Vistara   UK-995       Delhi        Morning  zero   \n",
       "4                4   Vistara   UK-963       Delhi        Morning  zero   \n",
       "...            ...       ...      ...         ...            ...   ...   \n",
       "300148      300148   Vistara   UK-822     Chennai        Morning   one   \n",
       "300149      300149   Vistara   UK-826     Chennai      Afternoon   one   \n",
       "300150      300150   Vistara   UK-832     Chennai  Early_Morning   one   \n",
       "300151      300151   Vistara   UK-828     Chennai  Early_Morning   one   \n",
       "300152      300152   Vistara   UK-822     Chennai        Morning   one   \n",
       "\n",
       "         arrival_time destination_city     class  duration  days_left  price  \n",
       "0               Night           Mumbai   Economy      2.17          1   5953  \n",
       "1             Morning           Mumbai   Economy      2.33          1   5953  \n",
       "2       Early_Morning           Mumbai   Economy      2.17          1   5956  \n",
       "3           Afternoon           Mumbai   Economy      2.25          1   5955  \n",
       "4             Morning           Mumbai   Economy      2.33          1   5955  \n",
       "...               ...              ...       ...       ...        ...    ...  \n",
       "300148        Evening        Hyderabad  Business     10.08         49  69265  \n",
       "300149          Night        Hyderabad  Business     10.42         49  77105  \n",
       "300150          Night        Hyderabad  Business     13.83         49  79099  \n",
       "300151        Evening        Hyderabad  Business     10.00         49  81585  \n",
       "300152        Evening        Hyderabad  Business     10.08         49  81585  \n",
       "\n",
       "[300153 rows x 12 columns]"
      ]
     },
     "execution_count": 3,
     "metadata": {},
     "output_type": "execute_result"
    }
   ],
   "source": [
    "flightfare"
   ]
  },
  {
   "cell_type": "code",
   "execution_count": 4,
   "id": "e8adde55",
   "metadata": {},
   "outputs": [
    {
     "data": {
      "text/html": [
       "<div>\n",
       "<style scoped>\n",
       "    .dataframe tbody tr th:only-of-type {\n",
       "        vertical-align: middle;\n",
       "    }\n",
       "\n",
       "    .dataframe tbody tr th {\n",
       "        vertical-align: top;\n",
       "    }\n",
       "\n",
       "    .dataframe thead th {\n",
       "        text-align: right;\n",
       "    }\n",
       "</style>\n",
       "<table border=\"1\" class=\"dataframe\">\n",
       "  <thead>\n",
       "    <tr style=\"text-align: right;\">\n",
       "      <th></th>\n",
       "      <th>Unnamed: 0</th>\n",
       "      <th>airline</th>\n",
       "      <th>flight</th>\n",
       "      <th>source_city</th>\n",
       "      <th>departure_time</th>\n",
       "      <th>stops</th>\n",
       "      <th>arrival_time</th>\n",
       "      <th>destination_city</th>\n",
       "      <th>class</th>\n",
       "      <th>duration</th>\n",
       "      <th>days_left</th>\n",
       "      <th>price</th>\n",
       "    </tr>\n",
       "  </thead>\n",
       "  <tbody>\n",
       "    <tr>\n",
       "      <th>0</th>\n",
       "      <td>0</td>\n",
       "      <td>SpiceJet</td>\n",
       "      <td>SG-8709</td>\n",
       "      <td>Delhi</td>\n",
       "      <td>Evening</td>\n",
       "      <td>zero</td>\n",
       "      <td>Night</td>\n",
       "      <td>Mumbai</td>\n",
       "      <td>Economy</td>\n",
       "      <td>2.17</td>\n",
       "      <td>1</td>\n",
       "      <td>5953</td>\n",
       "    </tr>\n",
       "    <tr>\n",
       "      <th>1</th>\n",
       "      <td>1</td>\n",
       "      <td>SpiceJet</td>\n",
       "      <td>SG-8157</td>\n",
       "      <td>Delhi</td>\n",
       "      <td>Early_Morning</td>\n",
       "      <td>zero</td>\n",
       "      <td>Morning</td>\n",
       "      <td>Mumbai</td>\n",
       "      <td>Economy</td>\n",
       "      <td>2.33</td>\n",
       "      <td>1</td>\n",
       "      <td>5953</td>\n",
       "    </tr>\n",
       "    <tr>\n",
       "      <th>2</th>\n",
       "      <td>2</td>\n",
       "      <td>AirAsia</td>\n",
       "      <td>I5-764</td>\n",
       "      <td>Delhi</td>\n",
       "      <td>Early_Morning</td>\n",
       "      <td>zero</td>\n",
       "      <td>Early_Morning</td>\n",
       "      <td>Mumbai</td>\n",
       "      <td>Economy</td>\n",
       "      <td>2.17</td>\n",
       "      <td>1</td>\n",
       "      <td>5956</td>\n",
       "    </tr>\n",
       "    <tr>\n",
       "      <th>3</th>\n",
       "      <td>3</td>\n",
       "      <td>Vistara</td>\n",
       "      <td>UK-995</td>\n",
       "      <td>Delhi</td>\n",
       "      <td>Morning</td>\n",
       "      <td>zero</td>\n",
       "      <td>Afternoon</td>\n",
       "      <td>Mumbai</td>\n",
       "      <td>Economy</td>\n",
       "      <td>2.25</td>\n",
       "      <td>1</td>\n",
       "      <td>5955</td>\n",
       "    </tr>\n",
       "    <tr>\n",
       "      <th>4</th>\n",
       "      <td>4</td>\n",
       "      <td>Vistara</td>\n",
       "      <td>UK-963</td>\n",
       "      <td>Delhi</td>\n",
       "      <td>Morning</td>\n",
       "      <td>zero</td>\n",
       "      <td>Morning</td>\n",
       "      <td>Mumbai</td>\n",
       "      <td>Economy</td>\n",
       "      <td>2.33</td>\n",
       "      <td>1</td>\n",
       "      <td>5955</td>\n",
       "    </tr>\n",
       "  </tbody>\n",
       "</table>\n",
       "</div>"
      ],
      "text/plain": [
       "   Unnamed: 0   airline   flight source_city departure_time stops  \\\n",
       "0           0  SpiceJet  SG-8709       Delhi        Evening  zero   \n",
       "1           1  SpiceJet  SG-8157       Delhi  Early_Morning  zero   \n",
       "2           2   AirAsia   I5-764       Delhi  Early_Morning  zero   \n",
       "3           3   Vistara   UK-995       Delhi        Morning  zero   \n",
       "4           4   Vistara   UK-963       Delhi        Morning  zero   \n",
       "\n",
       "    arrival_time destination_city    class  duration  days_left  price  \n",
       "0          Night           Mumbai  Economy      2.17          1   5953  \n",
       "1        Morning           Mumbai  Economy      2.33          1   5953  \n",
       "2  Early_Morning           Mumbai  Economy      2.17          1   5956  \n",
       "3      Afternoon           Mumbai  Economy      2.25          1   5955  \n",
       "4        Morning           Mumbai  Economy      2.33          1   5955  "
      ]
     },
     "execution_count": 4,
     "metadata": {},
     "output_type": "execute_result"
    }
   ],
   "source": [
    "flightfare.head()"
   ]
  },
  {
   "cell_type": "code",
   "execution_count": 5,
   "id": "79b05b1d",
   "metadata": {},
   "outputs": [
    {
     "data": {
      "text/plain": [
       "(300153, 12)"
      ]
     },
     "execution_count": 5,
     "metadata": {},
     "output_type": "execute_result"
    }
   ],
   "source": [
    "flightfare.shape"
   ]
  },
  {
   "cell_type": "markdown",
   "id": "e6d0cea6",
   "metadata": {},
   "source": [
    "We Have 12 Columns and 300153 rows"
   ]
  },
  {
   "cell_type": "code",
   "execution_count": 6,
   "id": "2f577d91",
   "metadata": {},
   "outputs": [
    {
     "name": "stdout",
     "output_type": "stream",
     "text": [
      "<class 'pandas.core.frame.DataFrame'>\n",
      "RangeIndex: 300153 entries, 0 to 300152\n",
      "Data columns (total 12 columns):\n",
      " #   Column            Non-Null Count   Dtype  \n",
      "---  ------            --------------   -----  \n",
      " 0   Unnamed: 0        300153 non-null  int64  \n",
      " 1   airline           300153 non-null  object \n",
      " 2   flight            300153 non-null  object \n",
      " 3   source_city       300153 non-null  object \n",
      " 4   departure_time    300153 non-null  object \n",
      " 5   stops             300153 non-null  object \n",
      " 6   arrival_time      300153 non-null  object \n",
      " 7   destination_city  300153 non-null  object \n",
      " 8   class             300153 non-null  object \n",
      " 9   duration          300153 non-null  float64\n",
      " 10  days_left         300153 non-null  int64  \n",
      " 11  price             300153 non-null  int64  \n",
      "dtypes: float64(1), int64(3), object(8)\n",
      "memory usage: 27.5+ MB\n"
     ]
    }
   ],
   "source": [
    "flightfare.info()"
   ]
  },
  {
   "cell_type": "code",
   "execution_count": 7,
   "id": "f2af8ecc",
   "metadata": {},
   "outputs": [
    {
     "data": {
      "text/plain": [
       "Unnamed: 0          0\n",
       "airline             0\n",
       "flight              0\n",
       "source_city         0\n",
       "departure_time      0\n",
       "stops               0\n",
       "arrival_time        0\n",
       "destination_city    0\n",
       "class               0\n",
       "duration            0\n",
       "days_left           0\n",
       "price               0\n",
       "dtype: int64"
      ]
     },
     "execution_count": 7,
     "metadata": {},
     "output_type": "execute_result"
    }
   ],
   "source": [
    "flightfare.isnull().sum()"
   ]
  },
  {
   "cell_type": "markdown",
   "id": "03f325d4",
   "metadata": {},
   "source": [
    "The dataset does not contain NULL Values"
   ]
  },
  {
   "cell_type": "code",
   "execution_count": 8,
   "id": "d659ecdb",
   "metadata": {},
   "outputs": [],
   "source": [
    "flightfare = flightfare.drop(['Unnamed: 0'], axis=1)"
   ]
  },
  {
   "cell_type": "markdown",
   "id": "1e3cfae5",
   "metadata": {},
   "source": [
    "We have Remove \"Unamed:0\" column as it was of no use"
   ]
  },
  {
   "cell_type": "code",
   "execution_count": 9,
   "id": "79993544",
   "metadata": {},
   "outputs": [
    {
     "data": {
      "text/html": [
       "<div>\n",
       "<style scoped>\n",
       "    .dataframe tbody tr th:only-of-type {\n",
       "        vertical-align: middle;\n",
       "    }\n",
       "\n",
       "    .dataframe tbody tr th {\n",
       "        vertical-align: top;\n",
       "    }\n",
       "\n",
       "    .dataframe thead th {\n",
       "        text-align: right;\n",
       "    }\n",
       "</style>\n",
       "<table border=\"1\" class=\"dataframe\">\n",
       "  <thead>\n",
       "    <tr style=\"text-align: right;\">\n",
       "      <th></th>\n",
       "      <th>airline</th>\n",
       "      <th>flight</th>\n",
       "      <th>source_city</th>\n",
       "      <th>departure_time</th>\n",
       "      <th>stops</th>\n",
       "      <th>arrival_time</th>\n",
       "      <th>destination_city</th>\n",
       "      <th>class</th>\n",
       "      <th>duration</th>\n",
       "      <th>days_left</th>\n",
       "      <th>price</th>\n",
       "    </tr>\n",
       "  </thead>\n",
       "  <tbody>\n",
       "    <tr>\n",
       "      <th>0</th>\n",
       "      <td>SpiceJet</td>\n",
       "      <td>SG-8709</td>\n",
       "      <td>Delhi</td>\n",
       "      <td>Evening</td>\n",
       "      <td>zero</td>\n",
       "      <td>Night</td>\n",
       "      <td>Mumbai</td>\n",
       "      <td>Economy</td>\n",
       "      <td>2.17</td>\n",
       "      <td>1</td>\n",
       "      <td>5953</td>\n",
       "    </tr>\n",
       "    <tr>\n",
       "      <th>1</th>\n",
       "      <td>SpiceJet</td>\n",
       "      <td>SG-8157</td>\n",
       "      <td>Delhi</td>\n",
       "      <td>Early_Morning</td>\n",
       "      <td>zero</td>\n",
       "      <td>Morning</td>\n",
       "      <td>Mumbai</td>\n",
       "      <td>Economy</td>\n",
       "      <td>2.33</td>\n",
       "      <td>1</td>\n",
       "      <td>5953</td>\n",
       "    </tr>\n",
       "    <tr>\n",
       "      <th>2</th>\n",
       "      <td>AirAsia</td>\n",
       "      <td>I5-764</td>\n",
       "      <td>Delhi</td>\n",
       "      <td>Early_Morning</td>\n",
       "      <td>zero</td>\n",
       "      <td>Early_Morning</td>\n",
       "      <td>Mumbai</td>\n",
       "      <td>Economy</td>\n",
       "      <td>2.17</td>\n",
       "      <td>1</td>\n",
       "      <td>5956</td>\n",
       "    </tr>\n",
       "    <tr>\n",
       "      <th>3</th>\n",
       "      <td>Vistara</td>\n",
       "      <td>UK-995</td>\n",
       "      <td>Delhi</td>\n",
       "      <td>Morning</td>\n",
       "      <td>zero</td>\n",
       "      <td>Afternoon</td>\n",
       "      <td>Mumbai</td>\n",
       "      <td>Economy</td>\n",
       "      <td>2.25</td>\n",
       "      <td>1</td>\n",
       "      <td>5955</td>\n",
       "    </tr>\n",
       "    <tr>\n",
       "      <th>4</th>\n",
       "      <td>Vistara</td>\n",
       "      <td>UK-963</td>\n",
       "      <td>Delhi</td>\n",
       "      <td>Morning</td>\n",
       "      <td>zero</td>\n",
       "      <td>Morning</td>\n",
       "      <td>Mumbai</td>\n",
       "      <td>Economy</td>\n",
       "      <td>2.33</td>\n",
       "      <td>1</td>\n",
       "      <td>5955</td>\n",
       "    </tr>\n",
       "  </tbody>\n",
       "</table>\n",
       "</div>"
      ],
      "text/plain": [
       "    airline   flight source_city departure_time stops   arrival_time  \\\n",
       "0  SpiceJet  SG-8709       Delhi        Evening  zero          Night   \n",
       "1  SpiceJet  SG-8157       Delhi  Early_Morning  zero        Morning   \n",
       "2   AirAsia   I5-764       Delhi  Early_Morning  zero  Early_Morning   \n",
       "3   Vistara   UK-995       Delhi        Morning  zero      Afternoon   \n",
       "4   Vistara   UK-963       Delhi        Morning  zero        Morning   \n",
       "\n",
       "  destination_city    class  duration  days_left  price  \n",
       "0           Mumbai  Economy      2.17          1   5953  \n",
       "1           Mumbai  Economy      2.33          1   5953  \n",
       "2           Mumbai  Economy      2.17          1   5956  \n",
       "3           Mumbai  Economy      2.25          1   5955  \n",
       "4           Mumbai  Economy      2.33          1   5955  "
      ]
     },
     "execution_count": 9,
     "metadata": {},
     "output_type": "execute_result"
    }
   ],
   "source": [
    "flightfare.head()"
   ]
  },
  {
   "cell_type": "code",
   "execution_count": 10,
   "id": "6b32a378",
   "metadata": {},
   "outputs": [
    {
     "data": {
      "text/html": [
       "<div>\n",
       "<style scoped>\n",
       "    .dataframe tbody tr th:only-of-type {\n",
       "        vertical-align: middle;\n",
       "    }\n",
       "\n",
       "    .dataframe tbody tr th {\n",
       "        vertical-align: top;\n",
       "    }\n",
       "\n",
       "    .dataframe thead th {\n",
       "        text-align: right;\n",
       "    }\n",
       "</style>\n",
       "<table border=\"1\" class=\"dataframe\">\n",
       "  <thead>\n",
       "    <tr style=\"text-align: right;\">\n",
       "      <th></th>\n",
       "      <th>airline</th>\n",
       "      <th>flight</th>\n",
       "      <th>source_city</th>\n",
       "      <th>departure_time</th>\n",
       "      <th>stops</th>\n",
       "      <th>arrival_time</th>\n",
       "      <th>destination_city</th>\n",
       "      <th>class</th>\n",
       "      <th>duration</th>\n",
       "      <th>days_left</th>\n",
       "      <th>price</th>\n",
       "    </tr>\n",
       "  </thead>\n",
       "  <tbody>\n",
       "    <tr>\n",
       "      <th>300148</th>\n",
       "      <td>Vistara</td>\n",
       "      <td>UK-822</td>\n",
       "      <td>Chennai</td>\n",
       "      <td>Morning</td>\n",
       "      <td>one</td>\n",
       "      <td>Evening</td>\n",
       "      <td>Hyderabad</td>\n",
       "      <td>Business</td>\n",
       "      <td>10.08</td>\n",
       "      <td>49</td>\n",
       "      <td>69265</td>\n",
       "    </tr>\n",
       "    <tr>\n",
       "      <th>300149</th>\n",
       "      <td>Vistara</td>\n",
       "      <td>UK-826</td>\n",
       "      <td>Chennai</td>\n",
       "      <td>Afternoon</td>\n",
       "      <td>one</td>\n",
       "      <td>Night</td>\n",
       "      <td>Hyderabad</td>\n",
       "      <td>Business</td>\n",
       "      <td>10.42</td>\n",
       "      <td>49</td>\n",
       "      <td>77105</td>\n",
       "    </tr>\n",
       "    <tr>\n",
       "      <th>300150</th>\n",
       "      <td>Vistara</td>\n",
       "      <td>UK-832</td>\n",
       "      <td>Chennai</td>\n",
       "      <td>Early_Morning</td>\n",
       "      <td>one</td>\n",
       "      <td>Night</td>\n",
       "      <td>Hyderabad</td>\n",
       "      <td>Business</td>\n",
       "      <td>13.83</td>\n",
       "      <td>49</td>\n",
       "      <td>79099</td>\n",
       "    </tr>\n",
       "    <tr>\n",
       "      <th>300151</th>\n",
       "      <td>Vistara</td>\n",
       "      <td>UK-828</td>\n",
       "      <td>Chennai</td>\n",
       "      <td>Early_Morning</td>\n",
       "      <td>one</td>\n",
       "      <td>Evening</td>\n",
       "      <td>Hyderabad</td>\n",
       "      <td>Business</td>\n",
       "      <td>10.00</td>\n",
       "      <td>49</td>\n",
       "      <td>81585</td>\n",
       "    </tr>\n",
       "    <tr>\n",
       "      <th>300152</th>\n",
       "      <td>Vistara</td>\n",
       "      <td>UK-822</td>\n",
       "      <td>Chennai</td>\n",
       "      <td>Morning</td>\n",
       "      <td>one</td>\n",
       "      <td>Evening</td>\n",
       "      <td>Hyderabad</td>\n",
       "      <td>Business</td>\n",
       "      <td>10.08</td>\n",
       "      <td>49</td>\n",
       "      <td>81585</td>\n",
       "    </tr>\n",
       "  </tbody>\n",
       "</table>\n",
       "</div>"
      ],
      "text/plain": [
       "        airline  flight source_city departure_time stops arrival_time  \\\n",
       "300148  Vistara  UK-822     Chennai        Morning   one      Evening   \n",
       "300149  Vistara  UK-826     Chennai      Afternoon   one        Night   \n",
       "300150  Vistara  UK-832     Chennai  Early_Morning   one        Night   \n",
       "300151  Vistara  UK-828     Chennai  Early_Morning   one      Evening   \n",
       "300152  Vistara  UK-822     Chennai        Morning   one      Evening   \n",
       "\n",
       "       destination_city     class  duration  days_left  price  \n",
       "300148        Hyderabad  Business     10.08         49  69265  \n",
       "300149        Hyderabad  Business     10.42         49  77105  \n",
       "300150        Hyderabad  Business     13.83         49  79099  \n",
       "300151        Hyderabad  Business     10.00         49  81585  \n",
       "300152        Hyderabad  Business     10.08         49  81585  "
      ]
     },
     "execution_count": 10,
     "metadata": {},
     "output_type": "execute_result"
    }
   ],
   "source": [
    "flightfare.tail()"
   ]
  },
  {
   "cell_type": "markdown",
   "id": "1133123b",
   "metadata": {},
   "source": [
    "Describe the data that is mean count etc of the numerical columns in the data frame."
   ]
  },
  {
   "cell_type": "code",
   "execution_count": 11,
   "id": "6f710015",
   "metadata": {},
   "outputs": [
    {
     "data": {
      "text/html": [
       "<div>\n",
       "<style scoped>\n",
       "    .dataframe tbody tr th:only-of-type {\n",
       "        vertical-align: middle;\n",
       "    }\n",
       "\n",
       "    .dataframe tbody tr th {\n",
       "        vertical-align: top;\n",
       "    }\n",
       "\n",
       "    .dataframe thead th {\n",
       "        text-align: right;\n",
       "    }\n",
       "</style>\n",
       "<table border=\"1\" class=\"dataframe\">\n",
       "  <thead>\n",
       "    <tr style=\"text-align: right;\">\n",
       "      <th></th>\n",
       "      <th>duration</th>\n",
       "      <th>days_left</th>\n",
       "      <th>price</th>\n",
       "    </tr>\n",
       "  </thead>\n",
       "  <tbody>\n",
       "    <tr>\n",
       "      <th>count</th>\n",
       "      <td>300153.000000</td>\n",
       "      <td>300153.000000</td>\n",
       "      <td>300153.000000</td>\n",
       "    </tr>\n",
       "    <tr>\n",
       "      <th>mean</th>\n",
       "      <td>12.221021</td>\n",
       "      <td>26.004751</td>\n",
       "      <td>20889.660523</td>\n",
       "    </tr>\n",
       "    <tr>\n",
       "      <th>std</th>\n",
       "      <td>7.191997</td>\n",
       "      <td>13.561004</td>\n",
       "      <td>22697.767366</td>\n",
       "    </tr>\n",
       "    <tr>\n",
       "      <th>min</th>\n",
       "      <td>0.830000</td>\n",
       "      <td>1.000000</td>\n",
       "      <td>1105.000000</td>\n",
       "    </tr>\n",
       "    <tr>\n",
       "      <th>25%</th>\n",
       "      <td>6.830000</td>\n",
       "      <td>15.000000</td>\n",
       "      <td>4783.000000</td>\n",
       "    </tr>\n",
       "    <tr>\n",
       "      <th>50%</th>\n",
       "      <td>11.250000</td>\n",
       "      <td>26.000000</td>\n",
       "      <td>7425.000000</td>\n",
       "    </tr>\n",
       "    <tr>\n",
       "      <th>75%</th>\n",
       "      <td>16.170000</td>\n",
       "      <td>38.000000</td>\n",
       "      <td>42521.000000</td>\n",
       "    </tr>\n",
       "    <tr>\n",
       "      <th>max</th>\n",
       "      <td>49.830000</td>\n",
       "      <td>49.000000</td>\n",
       "      <td>123071.000000</td>\n",
       "    </tr>\n",
       "  </tbody>\n",
       "</table>\n",
       "</div>"
      ],
      "text/plain": [
       "            duration      days_left          price\n",
       "count  300153.000000  300153.000000  300153.000000\n",
       "mean       12.221021      26.004751   20889.660523\n",
       "std         7.191997      13.561004   22697.767366\n",
       "min         0.830000       1.000000    1105.000000\n",
       "25%         6.830000      15.000000    4783.000000\n",
       "50%        11.250000      26.000000    7425.000000\n",
       "75%        16.170000      38.000000   42521.000000\n",
       "max        49.830000      49.000000  123071.000000"
      ]
     },
     "execution_count": 11,
     "metadata": {},
     "output_type": "execute_result"
    }
   ],
   "source": [
    "flightfare.describe()"
   ]
  },
  {
   "cell_type": "markdown",
   "id": "f933fa8d",
   "metadata": {},
   "source": [
    "Getting value counts of different columns"
   ]
  },
  {
   "cell_type": "code",
   "execution_count": 12,
   "id": "2e4808e1",
   "metadata": {},
   "outputs": [
    {
     "data": {
      "text/plain": [
       "2.17     4242\n",
       "2.25     4036\n",
       "2.75     2879\n",
       "2.08     2755\n",
       "2.83     2323\n",
       "         ... \n",
       "37.17       1\n",
       "38.75       1\n",
       "38.50       1\n",
       "36.25       1\n",
       "41.50       1\n",
       "Name: duration, Length: 476, dtype: int64"
      ]
     },
     "execution_count": 12,
     "metadata": {},
     "output_type": "execute_result"
    }
   ],
   "source": [
    "flightfare['duration'].value_counts()"
   ]
  },
  {
   "cell_type": "code",
   "execution_count": 13,
   "id": "c8f139da",
   "metadata": {},
   "outputs": [
    {
     "data": {
      "text/plain": [
       "Economy     206666\n",
       "Business     93487\n",
       "Name: class, dtype: int64"
      ]
     },
     "execution_count": 13,
     "metadata": {},
     "output_type": "execute_result"
    }
   ],
   "source": [
    "flightfare['class'].value_counts()"
   ]
  },
  {
   "cell_type": "code",
   "execution_count": 14,
   "id": "b8726f2c",
   "metadata": {},
   "outputs": [
    {
     "data": {
      "text/plain": [
       "one            250863\n",
       "zero            36004\n",
       "two_or_more     13286\n",
       "Name: stops, dtype: int64"
      ]
     },
     "execution_count": 14,
     "metadata": {},
     "output_type": "execute_result"
    }
   ],
   "source": [
    "flightfare['stops'].value_counts()"
   ]
  },
  {
   "cell_type": "code",
   "execution_count": 15,
   "id": "646ae9fe",
   "metadata": {},
   "outputs": [
    {
     "data": {
      "text/plain": [
       "Delhi        61343\n",
       "Mumbai       60896\n",
       "Bangalore    52061\n",
       "Kolkata      46347\n",
       "Hyderabad    40806\n",
       "Chennai      38700\n",
       "Name: source_city, dtype: int64"
      ]
     },
     "execution_count": 15,
     "metadata": {},
     "output_type": "execute_result"
    }
   ],
   "source": [
    "flightfare['source_city'].value_counts()"
   ]
  },
  {
   "cell_type": "markdown",
   "id": "cce14b13",
   "metadata": {},
   "source": [
    "Our Dataset contains total of 6 Source City"
   ]
  },
  {
   "cell_type": "code",
   "execution_count": 16,
   "id": "6f01ce9f",
   "metadata": {},
   "outputs": [
    {
     "data": {
      "text/plain": [
       "Mumbai       59097\n",
       "Delhi        57360\n",
       "Bangalore    51068\n",
       "Kolkata      49534\n",
       "Hyderabad    42726\n",
       "Chennai      40368\n",
       "Name: destination_city, dtype: int64"
      ]
     },
     "execution_count": 16,
     "metadata": {},
     "output_type": "execute_result"
    }
   ],
   "source": [
    "flightfare['destination_city'].value_counts()"
   ]
  },
  {
   "cell_type": "markdown",
   "id": "35ac4bc1",
   "metadata": {},
   "source": [
    "Similarly,the Destination City also are same "
   ]
  },
  {
   "cell_type": "markdown",
   "id": "a4be282a",
   "metadata": {},
   "source": [
    "**Mumbai And Delhi are Most frequently Travelled**"
   ]
  },
  {
   "cell_type": "code",
   "execution_count": 17,
   "id": "bad3dcec",
   "metadata": {},
   "outputs": [
    {
     "data": {
      "text/plain": [
       "Vistara      127859\n",
       "Air_India     80892\n",
       "Indigo        43120\n",
       "GO_FIRST      23173\n",
       "AirAsia       16098\n",
       "SpiceJet       9011\n",
       "Name: airline, dtype: int64"
      ]
     },
     "execution_count": 17,
     "metadata": {},
     "output_type": "execute_result"
    }
   ],
   "source": [
    "flightfare['airline'].value_counts()"
   ]
  },
  {
   "cell_type": "code",
   "execution_count": 18,
   "id": "2ef49efa",
   "metadata": {},
   "outputs": [
    {
     "name": "stderr",
     "output_type": "stream",
     "text": [
      "C:\\Users\\Jaswant\\anaconda3\\lib\\site-packages\\seaborn\\_decorators.py:36: FutureWarning: Pass the following variable as a keyword arg: x. From version 0.12, the only valid positional argument will be `data`, and passing other arguments without an explicit keyword will result in an error or misinterpretation.\n",
      "  warnings.warn(\n"
     ]
    },
    {
     "data": {
      "image/png": "[encoded data removed]",
      "text/plain": [
       "<Figure size 640x480 with 1 Axes>"
      ]
     },
     "metadata": {},
     "output_type": "display_data"
    }
   ],
   "source": [
    "sns.countplot(flightfare[\"airline\"])\n",
    "plt.show()"
   ]
  },
  {
   "cell_type": "markdown",
   "id": "f62de2e6",
   "metadata": {},
   "source": [
    "**Here We can See that Vistara Sell Most Number of tickets and Spicejet lowest**"
   ]
  },
  {
   "cell_type": "code",
   "execution_count": 19,
   "id": "d5a19411",
   "metadata": {},
   "outputs": [
    {
     "data": {
      "image/png": "[encoded data removed]",
      "text/plain": [
       "<Figure size 640x480 with 1 Axes>"
      ]
     },
     "metadata": {},
     "output_type": "display_data"
    }
   ],
   "source": [
    "plt.title(\"Price vs Airline\")\n",
    "sns.boxplot(y = \"price\", x = \"airline\", data = flightfare.sort_values(\"price\", ascending = False))\n",
    "plt.show()"
   ]
  },
  {
   "cell_type": "markdown",
   "id": "5455ac35",
   "metadata": {},
   "source": [
    "**We Can See Vistara & Air India had wide range of price variation in there tickets as compare to other 4 airlines**"
   ]
  },
  {
   "cell_type": "code",
   "execution_count": 20,
   "id": "ffc7d2d4",
   "metadata": {},
   "outputs": [
    {
     "data": {
      "image/png": "[encoded data removed]",
      "text/plain": [
       "<Figure size 640x480 with 1 Axes>"
      ]
     },
     "metadata": {},
     "output_type": "display_data"
    }
   ],
   "source": [
    "plt.title(\"Source vs Price\")\n",
    "sns.boxplot(y = \"price\", x = \"source_city\", data = flightfare.sort_values(\"price\", ascending = False))\n",
    "plt.show()"
   ]
  },
  {
   "cell_type": "markdown",
   "id": "161f4416",
   "metadata": {},
   "source": [
    "Source Doesn't have major affect on Price"
   ]
  },
  {
   "cell_type": "code",
   "execution_count": 21,
   "id": "983f8dc8",
   "metadata": {},
   "outputs": [
    {
     "data": {
      "text/plain": [
       "<AxesSubplot:title={'center':'Airline With their Class Counts'}, xlabel='class', ylabel='count'>"
      ]
     },
     "execution_count": 21,
     "metadata": {},
     "output_type": "execute_result"
    },
    {
     "data": {
      "image/png": "[encoded data removed]",
      "text/plain": [
       "<Figure size 1600x900 with 1 Axes>"
      ]
     },
     "metadata": {},
     "output_type": "display_data"
    }
   ],
   "source": [
    "plt.figure(figsize = [16, 9])\n",
    "plt.title(\"Airline With their Class Counts\")\n",
    "sns.countplot(data = flightfare, x = \"class\", hue = \"airline\")"
   ]
  },
  {
   "cell_type": "markdown",
   "id": "ef16d789",
   "metadata": {},
   "source": [
    "# Checking Price range of each airline and each class"
   ]
  },
  {
   "cell_type": "code",
   "execution_count": 22,
   "id": "b67dab6b",
   "metadata": {},
   "outputs": [
    {
     "data": {
      "text/html": [
       "<div>\n",
       "<style scoped>\n",
       "    .dataframe tbody tr th:only-of-type {\n",
       "        vertical-align: middle;\n",
       "    }\n",
       "\n",
       "    .dataframe tbody tr th {\n",
       "        vertical-align: top;\n",
       "    }\n",
       "\n",
       "    .dataframe thead th {\n",
       "        text-align: right;\n",
       "    }\n",
       "</style>\n",
       "<table border=\"1\" class=\"dataframe\">\n",
       "  <thead>\n",
       "    <tr style=\"text-align: right;\">\n",
       "      <th></th>\n",
       "      <th>airline</th>\n",
       "      <th>flight</th>\n",
       "      <th>source_city</th>\n",
       "      <th>departure_time</th>\n",
       "      <th>stops</th>\n",
       "      <th>arrival_time</th>\n",
       "      <th>destination_city</th>\n",
       "      <th>class</th>\n",
       "      <th>duration</th>\n",
       "      <th>days_left</th>\n",
       "      <th>price</th>\n",
       "    </tr>\n",
       "  </thead>\n",
       "  <tbody>\n",
       "    <tr>\n",
       "      <th>3</th>\n",
       "      <td>Vistara</td>\n",
       "      <td>UK-995</td>\n",
       "      <td>Delhi</td>\n",
       "      <td>Morning</td>\n",
       "      <td>zero</td>\n",
       "      <td>Afternoon</td>\n",
       "      <td>Mumbai</td>\n",
       "      <td>Economy</td>\n",
       "      <td>2.25</td>\n",
       "      <td>1</td>\n",
       "      <td>5955</td>\n",
       "    </tr>\n",
       "    <tr>\n",
       "      <th>4</th>\n",
       "      <td>Vistara</td>\n",
       "      <td>UK-963</td>\n",
       "      <td>Delhi</td>\n",
       "      <td>Morning</td>\n",
       "      <td>zero</td>\n",
       "      <td>Morning</td>\n",
       "      <td>Mumbai</td>\n",
       "      <td>Economy</td>\n",
       "      <td>2.33</td>\n",
       "      <td>1</td>\n",
       "      <td>5955</td>\n",
       "    </tr>\n",
       "    <tr>\n",
       "      <th>5</th>\n",
       "      <td>Vistara</td>\n",
       "      <td>UK-945</td>\n",
       "      <td>Delhi</td>\n",
       "      <td>Morning</td>\n",
       "      <td>zero</td>\n",
       "      <td>Afternoon</td>\n",
       "      <td>Mumbai</td>\n",
       "      <td>Economy</td>\n",
       "      <td>2.33</td>\n",
       "      <td>1</td>\n",
       "      <td>5955</td>\n",
       "    </tr>\n",
       "    <tr>\n",
       "      <th>6</th>\n",
       "      <td>Vistara</td>\n",
       "      <td>UK-927</td>\n",
       "      <td>Delhi</td>\n",
       "      <td>Morning</td>\n",
       "      <td>zero</td>\n",
       "      <td>Morning</td>\n",
       "      <td>Mumbai</td>\n",
       "      <td>Economy</td>\n",
       "      <td>2.08</td>\n",
       "      <td>1</td>\n",
       "      <td>6060</td>\n",
       "    </tr>\n",
       "    <tr>\n",
       "      <th>7</th>\n",
       "      <td>Vistara</td>\n",
       "      <td>UK-951</td>\n",
       "      <td>Delhi</td>\n",
       "      <td>Afternoon</td>\n",
       "      <td>zero</td>\n",
       "      <td>Evening</td>\n",
       "      <td>Mumbai</td>\n",
       "      <td>Economy</td>\n",
       "      <td>2.17</td>\n",
       "      <td>1</td>\n",
       "      <td>6060</td>\n",
       "    </tr>\n",
       "    <tr>\n",
       "      <th>...</th>\n",
       "      <td>...</td>\n",
       "      <td>...</td>\n",
       "      <td>...</td>\n",
       "      <td>...</td>\n",
       "      <td>...</td>\n",
       "      <td>...</td>\n",
       "      <td>...</td>\n",
       "      <td>...</td>\n",
       "      <td>...</td>\n",
       "      <td>...</td>\n",
       "      <td>...</td>\n",
       "    </tr>\n",
       "    <tr>\n",
       "      <th>300148</th>\n",
       "      <td>Vistara</td>\n",
       "      <td>UK-822</td>\n",
       "      <td>Chennai</td>\n",
       "      <td>Morning</td>\n",
       "      <td>one</td>\n",
       "      <td>Evening</td>\n",
       "      <td>Hyderabad</td>\n",
       "      <td>Business</td>\n",
       "      <td>10.08</td>\n",
       "      <td>49</td>\n",
       "      <td>69265</td>\n",
       "    </tr>\n",
       "    <tr>\n",
       "      <th>300149</th>\n",
       "      <td>Vistara</td>\n",
       "      <td>UK-826</td>\n",
       "      <td>Chennai</td>\n",
       "      <td>Afternoon</td>\n",
       "      <td>one</td>\n",
       "      <td>Night</td>\n",
       "      <td>Hyderabad</td>\n",
       "      <td>Business</td>\n",
       "      <td>10.42</td>\n",
       "      <td>49</td>\n",
       "      <td>77105</td>\n",
       "    </tr>\n",
       "    <tr>\n",
       "      <th>300150</th>\n",
       "      <td>Vistara</td>\n",
       "      <td>UK-832</td>\n",
       "      <td>Chennai</td>\n",
       "      <td>Early_Morning</td>\n",
       "      <td>one</td>\n",
       "      <td>Night</td>\n",
       "      <td>Hyderabad</td>\n",
       "      <td>Business</td>\n",
       "      <td>13.83</td>\n",
       "      <td>49</td>\n",
       "      <td>79099</td>\n",
       "    </tr>\n",
       "    <tr>\n",
       "      <th>300151</th>\n",
       "      <td>Vistara</td>\n",
       "      <td>UK-828</td>\n",
       "      <td>Chennai</td>\n",
       "      <td>Early_Morning</td>\n",
       "      <td>one</td>\n",
       "      <td>Evening</td>\n",
       "      <td>Hyderabad</td>\n",
       "      <td>Business</td>\n",
       "      <td>10.00</td>\n",
       "      <td>49</td>\n",
       "      <td>81585</td>\n",
       "    </tr>\n",
       "    <tr>\n",
       "      <th>300152</th>\n",
       "      <td>Vistara</td>\n",
       "      <td>UK-822</td>\n",
       "      <td>Chennai</td>\n",
       "      <td>Morning</td>\n",
       "      <td>one</td>\n",
       "      <td>Evening</td>\n",
       "      <td>Hyderabad</td>\n",
       "      <td>Business</td>\n",
       "      <td>10.08</td>\n",
       "      <td>49</td>\n",
       "      <td>81585</td>\n",
       "    </tr>\n",
       "  </tbody>\n",
       "</table>\n",
       "<p>127859 rows × 11 columns</p>\n",
       "</div>"
      ],
      "text/plain": [
       "        airline  flight source_city departure_time stops arrival_time  \\\n",
       "3       Vistara  UK-995       Delhi        Morning  zero    Afternoon   \n",
       "4       Vistara  UK-963       Delhi        Morning  zero      Morning   \n",
       "5       Vistara  UK-945       Delhi        Morning  zero    Afternoon   \n",
       "6       Vistara  UK-927       Delhi        Morning  zero      Morning   \n",
       "7       Vistara  UK-951       Delhi      Afternoon  zero      Evening   \n",
       "...         ...     ...         ...            ...   ...          ...   \n",
       "300148  Vistara  UK-822     Chennai        Morning   one      Evening   \n",
       "300149  Vistara  UK-826     Chennai      Afternoon   one        Night   \n",
       "300150  Vistara  UK-832     Chennai  Early_Morning   one        Night   \n",
       "300151  Vistara  UK-828     Chennai  Early_Morning   one      Evening   \n",
       "300152  Vistara  UK-822     Chennai        Morning   one      Evening   \n",
       "\n",
       "       destination_city     class  duration  days_left  price  \n",
       "3                Mumbai   Economy      2.25          1   5955  \n",
       "4                Mumbai   Economy      2.33          1   5955  \n",
       "5                Mumbai   Economy      2.33          1   5955  \n",
       "6                Mumbai   Economy      2.08          1   6060  \n",
       "7                Mumbai   Economy      2.17          1   6060  \n",
       "...                 ...       ...       ...        ...    ...  \n",
       "300148        Hyderabad  Business     10.08         49  69265  \n",
       "300149        Hyderabad  Business     10.42         49  77105  \n",
       "300150        Hyderabad  Business     13.83         49  79099  \n",
       "300151        Hyderabad  Business     10.00         49  81585  \n",
       "300152        Hyderabad  Business     10.08         49  81585  \n",
       "\n",
       "[127859 rows x 11 columns]"
      ]
     },
     "execution_count": 22,
     "metadata": {},
     "output_type": "execute_result"
    }
   ],
   "source": [
    "vistara=flightfare.loc[flightfare['airline']=='Vistara']\n",
    "vistara"
   ]
  },
  {
   "cell_type": "code",
   "execution_count": 23,
   "id": "975fbbb9",
   "metadata": {},
   "outputs": [
    {
     "data": {
      "image/png": "[encoded data removed]",
      "text/plain": [
       "<Figure size 1000x500 with 2 Axes>"
      ]
     },
     "metadata": {},
     "output_type": "display_data"
    }
   ],
   "source": [
    "#checking price variation of vistara airlines\n",
    "sns.displot(data=vistara, x=\"price\", col=\"class\" )\n",
    "plt.show()"
   ]
  },
  {
   "cell_type": "markdown",
   "id": "b11ba864",
   "metadata": {},
   "source": [
    "Approximate Range\n",
    "Economy Class from 2000 to 20000  \n",
    "Business Classs from 20000 to 100000 "
   ]
  },
  {
   "cell_type": "code",
   "execution_count": 24,
   "id": "ca2e8ee6",
   "metadata": {},
   "outputs": [
    {
     "data": {
      "text/plain": [
       "30396.53630170735"
      ]
     },
     "execution_count": 24,
     "metadata": {},
     "output_type": "execute_result"
    }
   ],
   "source": [
    "vistara[\"price\"].mean()"
   ]
  },
  {
   "cell_type": "markdown",
   "id": "d35df75f",
   "metadata": {},
   "source": [
    "**The average price of vistara airline is 30k**"
   ]
  },
  {
   "cell_type": "code",
   "execution_count": 25,
   "id": "f8c49d40",
   "metadata": {},
   "outputs": [
    {
     "data": {
      "text/html": [
       "<div>\n",
       "<style scoped>\n",
       "    .dataframe tbody tr th:only-of-type {\n",
       "        vertical-align: middle;\n",
       "    }\n",
       "\n",
       "    .dataframe tbody tr th {\n",
       "        vertical-align: top;\n",
       "    }\n",
       "\n",
       "    .dataframe thead th {\n",
       "        text-align: right;\n",
       "    }\n",
       "</style>\n",
       "<table border=\"1\" class=\"dataframe\">\n",
       "  <thead>\n",
       "    <tr style=\"text-align: right;\">\n",
       "      <th></th>\n",
       "      <th>airline</th>\n",
       "      <th>flight</th>\n",
       "      <th>source_city</th>\n",
       "      <th>departure_time</th>\n",
       "      <th>stops</th>\n",
       "      <th>arrival_time</th>\n",
       "      <th>destination_city</th>\n",
       "      <th>class</th>\n",
       "      <th>duration</th>\n",
       "      <th>days_left</th>\n",
       "      <th>price</th>\n",
       "    </tr>\n",
       "  </thead>\n",
       "  <tbody>\n",
       "    <tr>\n",
       "      <th>16</th>\n",
       "      <td>Air_India</td>\n",
       "      <td>AI-887</td>\n",
       "      <td>Delhi</td>\n",
       "      <td>Early_Morning</td>\n",
       "      <td>zero</td>\n",
       "      <td>Morning</td>\n",
       "      <td>Mumbai</td>\n",
       "      <td>Economy</td>\n",
       "      <td>2.08</td>\n",
       "      <td>1</td>\n",
       "      <td>5955</td>\n",
       "    </tr>\n",
       "    <tr>\n",
       "      <th>17</th>\n",
       "      <td>Air_India</td>\n",
       "      <td>AI-665</td>\n",
       "      <td>Delhi</td>\n",
       "      <td>Early_Morning</td>\n",
       "      <td>zero</td>\n",
       "      <td>Morning</td>\n",
       "      <td>Mumbai</td>\n",
       "      <td>Economy</td>\n",
       "      <td>2.17</td>\n",
       "      <td>1</td>\n",
       "      <td>5955</td>\n",
       "    </tr>\n",
       "    <tr>\n",
       "      <th>23</th>\n",
       "      <td>Air_India</td>\n",
       "      <td>AI-441</td>\n",
       "      <td>Delhi</td>\n",
       "      <td>Evening</td>\n",
       "      <td>one</td>\n",
       "      <td>Night</td>\n",
       "      <td>Mumbai</td>\n",
       "      <td>Economy</td>\n",
       "      <td>3.75</td>\n",
       "      <td>1</td>\n",
       "      <td>5955</td>\n",
       "    </tr>\n",
       "    <tr>\n",
       "      <th>37</th>\n",
       "      <td>Air_India</td>\n",
       "      <td>AI-453</td>\n",
       "      <td>Delhi</td>\n",
       "      <td>Early_Morning</td>\n",
       "      <td>one</td>\n",
       "      <td>Afternoon</td>\n",
       "      <td>Mumbai</td>\n",
       "      <td>Economy</td>\n",
       "      <td>8.83</td>\n",
       "      <td>1</td>\n",
       "      <td>11900</td>\n",
       "    </tr>\n",
       "    <tr>\n",
       "      <th>40</th>\n",
       "      <td>Air_India</td>\n",
       "      <td>AI-504</td>\n",
       "      <td>Delhi</td>\n",
       "      <td>Night</td>\n",
       "      <td>one</td>\n",
       "      <td>Morning</td>\n",
       "      <td>Mumbai</td>\n",
       "      <td>Economy</td>\n",
       "      <td>11.00</td>\n",
       "      <td>1</td>\n",
       "      <td>12150</td>\n",
       "    </tr>\n",
       "    <tr>\n",
       "      <th>...</th>\n",
       "      <td>...</td>\n",
       "      <td>...</td>\n",
       "      <td>...</td>\n",
       "      <td>...</td>\n",
       "      <td>...</td>\n",
       "      <td>...</td>\n",
       "      <td>...</td>\n",
       "      <td>...</td>\n",
       "      <td>...</td>\n",
       "      <td>...</td>\n",
       "      <td>...</td>\n",
       "    </tr>\n",
       "    <tr>\n",
       "      <th>300143</th>\n",
       "      <td>Air_India</td>\n",
       "      <td>AI-440</td>\n",
       "      <td>Chennai</td>\n",
       "      <td>Early_Morning</td>\n",
       "      <td>one</td>\n",
       "      <td>Night</td>\n",
       "      <td>Hyderabad</td>\n",
       "      <td>Business</td>\n",
       "      <td>17.42</td>\n",
       "      <td>49</td>\n",
       "      <td>51345</td>\n",
       "    </tr>\n",
       "    <tr>\n",
       "      <th>300144</th>\n",
       "      <td>Air_India</td>\n",
       "      <td>AI-539</td>\n",
       "      <td>Chennai</td>\n",
       "      <td>Evening</td>\n",
       "      <td>one</td>\n",
       "      <td>Morning</td>\n",
       "      <td>Hyderabad</td>\n",
       "      <td>Business</td>\n",
       "      <td>18.92</td>\n",
       "      <td>49</td>\n",
       "      <td>51345</td>\n",
       "    </tr>\n",
       "    <tr>\n",
       "      <th>300145</th>\n",
       "      <td>Air_India</td>\n",
       "      <td>AI-430</td>\n",
       "      <td>Chennai</td>\n",
       "      <td>Morning</td>\n",
       "      <td>one</td>\n",
       "      <td>Morning</td>\n",
       "      <td>Hyderabad</td>\n",
       "      <td>Business</td>\n",
       "      <td>23.08</td>\n",
       "      <td>49</td>\n",
       "      <td>51345</td>\n",
       "    </tr>\n",
       "    <tr>\n",
       "      <th>300146</th>\n",
       "      <td>Air_India</td>\n",
       "      <td>AI-440</td>\n",
       "      <td>Chennai</td>\n",
       "      <td>Early_Morning</td>\n",
       "      <td>one</td>\n",
       "      <td>Morning</td>\n",
       "      <td>Hyderabad</td>\n",
       "      <td>Business</td>\n",
       "      <td>26.83</td>\n",
       "      <td>49</td>\n",
       "      <td>51345</td>\n",
       "    </tr>\n",
       "    <tr>\n",
       "      <th>300147</th>\n",
       "      <td>Air_India</td>\n",
       "      <td>AI-569</td>\n",
       "      <td>Chennai</td>\n",
       "      <td>Early_Morning</td>\n",
       "      <td>one</td>\n",
       "      <td>Night</td>\n",
       "      <td>Hyderabad</td>\n",
       "      <td>Business</td>\n",
       "      <td>17.25</td>\n",
       "      <td>49</td>\n",
       "      <td>68739</td>\n",
       "    </tr>\n",
       "  </tbody>\n",
       "</table>\n",
       "<p>80892 rows × 11 columns</p>\n",
       "</div>"
      ],
      "text/plain": [
       "          airline  flight source_city departure_time stops arrival_time  \\\n",
       "16      Air_India  AI-887       Delhi  Early_Morning  zero      Morning   \n",
       "17      Air_India  AI-665       Delhi  Early_Morning  zero      Morning   \n",
       "23      Air_India  AI-441       Delhi        Evening   one        Night   \n",
       "37      Air_India  AI-453       Delhi  Early_Morning   one    Afternoon   \n",
       "40      Air_India  AI-504       Delhi          Night   one      Morning   \n",
       "...           ...     ...         ...            ...   ...          ...   \n",
       "300143  Air_India  AI-440     Chennai  Early_Morning   one        Night   \n",
       "300144  Air_India  AI-539     Chennai        Evening   one      Morning   \n",
       "300145  Air_India  AI-430     Chennai        Morning   one      Morning   \n",
       "300146  Air_India  AI-440     Chennai  Early_Morning   one      Morning   \n",
       "300147  Air_India  AI-569     Chennai  Early_Morning   one        Night   \n",
       "\n",
       "       destination_city     class  duration  days_left  price  \n",
       "16               Mumbai   Economy      2.08          1   5955  \n",
       "17               Mumbai   Economy      2.17          1   5955  \n",
       "23               Mumbai   Economy      3.75          1   5955  \n",
       "37               Mumbai   Economy      8.83          1  11900  \n",
       "40               Mumbai   Economy     11.00          1  12150  \n",
       "...                 ...       ...       ...        ...    ...  \n",
       "300143        Hyderabad  Business     17.42         49  51345  \n",
       "300144        Hyderabad  Business     18.92         49  51345  \n",
       "300145        Hyderabad  Business     23.08         49  51345  \n",
       "300146        Hyderabad  Business     26.83         49  51345  \n",
       "300147        Hyderabad  Business     17.25         49  68739  \n",
       "\n",
       "[80892 rows x 11 columns]"
      ]
     },
     "execution_count": 25,
     "metadata": {},
     "output_type": "execute_result"
    }
   ],
   "source": [
    "Air_India=flightfare.loc[flightfare['airline']=='Air_India']\n",
    "Air_India"
   ]
  },
  {
   "cell_type": "code",
   "execution_count": 26,
   "id": "2e26e9b6",
   "metadata": {},
   "outputs": [
    {
     "data": {
      "image/png": "[encoded data removed]",
      "text/plain": [
       "<Figure size 1000x500 with 2 Axes>"
      ]
     },
     "metadata": {},
     "output_type": "display_data"
    }
   ],
   "source": [
    "#checking price variation of Air India airlines\n",
    "sns.displot(data=Air_India, x=\"price\", col=\"class\" )\n",
    "plt.show()"
   ]
  },
  {
   "cell_type": "markdown",
   "id": "25f349d0",
   "metadata": {},
   "source": [
    "Approximate Range\n",
    "Economy Class from 2000 to 25000  \n",
    "Business Classs from 20000 to 80000"
   ]
  },
  {
   "cell_type": "code",
   "execution_count": 27,
   "id": "566ab861",
   "metadata": {},
   "outputs": [
    {
     "data": {
      "text/plain": [
       "23507.01911190229"
      ]
     },
     "execution_count": 27,
     "metadata": {},
     "output_type": "execute_result"
    }
   ],
   "source": [
    "Air_India[\"price\"].mean()"
   ]
  },
  {
   "cell_type": "markdown",
   "id": "48cbbcfc",
   "metadata": {},
   "source": [
    "**The average Price Of Air India airlines is 23.5k**"
   ]
  },
  {
   "cell_type": "code",
   "execution_count": 28,
   "id": "6e73421f",
   "metadata": {},
   "outputs": [
    {
     "data": {
      "text/html": [
       "<div>\n",
       "<style scoped>\n",
       "    .dataframe tbody tr th:only-of-type {\n",
       "        vertical-align: middle;\n",
       "    }\n",
       "\n",
       "    .dataframe tbody tr th {\n",
       "        vertical-align: top;\n",
       "    }\n",
       "\n",
       "    .dataframe thead th {\n",
       "        text-align: right;\n",
       "    }\n",
       "</style>\n",
       "<table border=\"1\" class=\"dataframe\">\n",
       "  <thead>\n",
       "    <tr style=\"text-align: right;\">\n",
       "      <th></th>\n",
       "      <th>airline</th>\n",
       "      <th>flight</th>\n",
       "      <th>source_city</th>\n",
       "      <th>departure_time</th>\n",
       "      <th>stops</th>\n",
       "      <th>arrival_time</th>\n",
       "      <th>destination_city</th>\n",
       "      <th>class</th>\n",
       "      <th>duration</th>\n",
       "      <th>days_left</th>\n",
       "      <th>price</th>\n",
       "    </tr>\n",
       "  </thead>\n",
       "  <tbody>\n",
       "    <tr>\n",
       "      <th>12</th>\n",
       "      <td>Indigo</td>\n",
       "      <td>6E-5001</td>\n",
       "      <td>Delhi</td>\n",
       "      <td>Early_Morning</td>\n",
       "      <td>zero</td>\n",
       "      <td>Morning</td>\n",
       "      <td>Mumbai</td>\n",
       "      <td>Economy</td>\n",
       "      <td>2.17</td>\n",
       "      <td>1</td>\n",
       "      <td>5955</td>\n",
       "    </tr>\n",
       "    <tr>\n",
       "      <th>13</th>\n",
       "      <td>Indigo</td>\n",
       "      <td>6E-6202</td>\n",
       "      <td>Delhi</td>\n",
       "      <td>Morning</td>\n",
       "      <td>zero</td>\n",
       "      <td>Afternoon</td>\n",
       "      <td>Mumbai</td>\n",
       "      <td>Economy</td>\n",
       "      <td>2.17</td>\n",
       "      <td>1</td>\n",
       "      <td>5955</td>\n",
       "    </tr>\n",
       "    <tr>\n",
       "      <th>14</th>\n",
       "      <td>Indigo</td>\n",
       "      <td>6E-549</td>\n",
       "      <td>Delhi</td>\n",
       "      <td>Afternoon</td>\n",
       "      <td>zero</td>\n",
       "      <td>Evening</td>\n",
       "      <td>Mumbai</td>\n",
       "      <td>Economy</td>\n",
       "      <td>2.25</td>\n",
       "      <td>1</td>\n",
       "      <td>5955</td>\n",
       "    </tr>\n",
       "    <tr>\n",
       "      <th>15</th>\n",
       "      <td>Indigo</td>\n",
       "      <td>6E-6278</td>\n",
       "      <td>Delhi</td>\n",
       "      <td>Morning</td>\n",
       "      <td>zero</td>\n",
       "      <td>Morning</td>\n",
       "      <td>Mumbai</td>\n",
       "      <td>Economy</td>\n",
       "      <td>2.33</td>\n",
       "      <td>1</td>\n",
       "      <td>5955</td>\n",
       "    </tr>\n",
       "    <tr>\n",
       "      <th>24</th>\n",
       "      <td>Indigo</td>\n",
       "      <td>6E-5328</td>\n",
       "      <td>Delhi</td>\n",
       "      <td>Morning</td>\n",
       "      <td>zero</td>\n",
       "      <td>Morning</td>\n",
       "      <td>Mumbai</td>\n",
       "      <td>Economy</td>\n",
       "      <td>2.50</td>\n",
       "      <td>1</td>\n",
       "      <td>6165</td>\n",
       "    </tr>\n",
       "    <tr>\n",
       "      <th>...</th>\n",
       "      <td>...</td>\n",
       "      <td>...</td>\n",
       "      <td>...</td>\n",
       "      <td>...</td>\n",
       "      <td>...</td>\n",
       "      <td>...</td>\n",
       "      <td>...</td>\n",
       "      <td>...</td>\n",
       "      <td>...</td>\n",
       "      <td>...</td>\n",
       "      <td>...</td>\n",
       "    </tr>\n",
       "    <tr>\n",
       "      <th>206612</th>\n",
       "      <td>Indigo</td>\n",
       "      <td>6E-156</td>\n",
       "      <td>Chennai</td>\n",
       "      <td>Night</td>\n",
       "      <td>zero</td>\n",
       "      <td>Night</td>\n",
       "      <td>Hyderabad</td>\n",
       "      <td>Economy</td>\n",
       "      <td>1.25</td>\n",
       "      <td>49</td>\n",
       "      <td>1551</td>\n",
       "    </tr>\n",
       "    <tr>\n",
       "      <th>206613</th>\n",
       "      <td>Indigo</td>\n",
       "      <td>6E-562</td>\n",
       "      <td>Chennai</td>\n",
       "      <td>Evening</td>\n",
       "      <td>zero</td>\n",
       "      <td>Evening</td>\n",
       "      <td>Hyderabad</td>\n",
       "      <td>Economy</td>\n",
       "      <td>1.33</td>\n",
       "      <td>49</td>\n",
       "      <td>1551</td>\n",
       "    </tr>\n",
       "    <tr>\n",
       "      <th>206614</th>\n",
       "      <td>Indigo</td>\n",
       "      <td>6E-6215</td>\n",
       "      <td>Chennai</td>\n",
       "      <td>Evening</td>\n",
       "      <td>zero</td>\n",
       "      <td>Evening</td>\n",
       "      <td>Hyderabad</td>\n",
       "      <td>Economy</td>\n",
       "      <td>1.33</td>\n",
       "      <td>49</td>\n",
       "      <td>1551</td>\n",
       "    </tr>\n",
       "    <tr>\n",
       "      <th>206615</th>\n",
       "      <td>Indigo</td>\n",
       "      <td>6E-193</td>\n",
       "      <td>Chennai</td>\n",
       "      <td>Evening</td>\n",
       "      <td>zero</td>\n",
       "      <td>Night</td>\n",
       "      <td>Hyderabad</td>\n",
       "      <td>Economy</td>\n",
       "      <td>1.33</td>\n",
       "      <td>49</td>\n",
       "      <td>1551</td>\n",
       "    </tr>\n",
       "    <tr>\n",
       "      <th>206650</th>\n",
       "      <td>Indigo</td>\n",
       "      <td>6E-7193</td>\n",
       "      <td>Chennai</td>\n",
       "      <td>Early_Morning</td>\n",
       "      <td>one</td>\n",
       "      <td>Afternoon</td>\n",
       "      <td>Hyderabad</td>\n",
       "      <td>Economy</td>\n",
       "      <td>6.67</td>\n",
       "      <td>49</td>\n",
       "      <td>5410</td>\n",
       "    </tr>\n",
       "  </tbody>\n",
       "</table>\n",
       "<p>43120 rows × 11 columns</p>\n",
       "</div>"
      ],
      "text/plain": [
       "       airline   flight source_city departure_time stops arrival_time  \\\n",
       "12      Indigo  6E-5001       Delhi  Early_Morning  zero      Morning   \n",
       "13      Indigo  6E-6202       Delhi        Morning  zero    Afternoon   \n",
       "14      Indigo   6E-549       Delhi      Afternoon  zero      Evening   \n",
       "15      Indigo  6E-6278       Delhi        Morning  zero      Morning   \n",
       "24      Indigo  6E-5328       Delhi        Morning  zero      Morning   \n",
       "...        ...      ...         ...            ...   ...          ...   \n",
       "206612  Indigo   6E-156     Chennai          Night  zero        Night   \n",
       "206613  Indigo   6E-562     Chennai        Evening  zero      Evening   \n",
       "206614  Indigo  6E-6215     Chennai        Evening  zero      Evening   \n",
       "206615  Indigo   6E-193     Chennai        Evening  zero        Night   \n",
       "206650  Indigo  6E-7193     Chennai  Early_Morning   one    Afternoon   \n",
       "\n",
       "       destination_city    class  duration  days_left  price  \n",
       "12               Mumbai  Economy      2.17          1   5955  \n",
       "13               Mumbai  Economy      2.17          1   5955  \n",
       "14               Mumbai  Economy      2.25          1   5955  \n",
       "15               Mumbai  Economy      2.33          1   5955  \n",
       "24               Mumbai  Economy      2.50          1   6165  \n",
       "...                 ...      ...       ...        ...    ...  \n",
       "206612        Hyderabad  Economy      1.25         49   1551  \n",
       "206613        Hyderabad  Economy      1.33         49   1551  \n",
       "206614        Hyderabad  Economy      1.33         49   1551  \n",
       "206615        Hyderabad  Economy      1.33         49   1551  \n",
       "206650        Hyderabad  Economy      6.67         49   5410  \n",
       "\n",
       "[43120 rows x 11 columns]"
      ]
     },
     "execution_count": 28,
     "metadata": {},
     "output_type": "execute_result"
    }
   ],
   "source": [
    "Indigo=flightfare.loc[flightfare['airline']=='Indigo']\n",
    "Indigo"
   ]
  },
  {
   "cell_type": "code",
   "execution_count": 29,
   "id": "e83e21b7",
   "metadata": {},
   "outputs": [
    {
     "data": {
      "image/png": "[encoded data removed]",
      "text/plain": [
       "<Figure size 500x500 with 1 Axes>"
      ]
     },
     "metadata": {},
     "output_type": "display_data"
    }
   ],
   "source": [
    "#checking price variation of Indigo airlines\n",
    "sns.displot(data=Indigo, x=\"price\")\n",
    "plt.show()\n",
    "# Here no need of taking col = class as in countplot of Airline With their Class Counts we have seen there is business class in only vistara & Air India"
   ]
  },
  {
   "cell_type": "markdown",
   "id": "6c0c8fdc",
   "metadata": {},
   "source": [
    "Approximate Range\n",
    "Economy Class from 2000 to 20000"
   ]
  },
  {
   "cell_type": "code",
   "execution_count": 30,
   "id": "f50162c3",
   "metadata": {},
   "outputs": [
    {
     "data": {
      "text/plain": [
       "5324.216303339517"
      ]
     },
     "execution_count": 30,
     "metadata": {},
     "output_type": "execute_result"
    }
   ],
   "source": [
    "Indigo[\"price\"].mean()"
   ]
  },
  {
   "cell_type": "markdown",
   "id": "46faa471",
   "metadata": {},
   "source": [
    "**The average Price Of Indigo airlines is 5.3k**"
   ]
  },
  {
   "cell_type": "code",
   "execution_count": 31,
   "id": "8abe1172",
   "metadata": {},
   "outputs": [
    {
     "data": {
      "text/html": [
       "<div>\n",
       "<style scoped>\n",
       "    .dataframe tbody tr th:only-of-type {\n",
       "        vertical-align: middle;\n",
       "    }\n",
       "\n",
       "    .dataframe tbody tr th {\n",
       "        vertical-align: top;\n",
       "    }\n",
       "\n",
       "    .dataframe thead th {\n",
       "        text-align: right;\n",
       "    }\n",
       "</style>\n",
       "<table border=\"1\" class=\"dataframe\">\n",
       "  <thead>\n",
       "    <tr style=\"text-align: right;\">\n",
       "      <th></th>\n",
       "      <th>airline</th>\n",
       "      <th>flight</th>\n",
       "      <th>source_city</th>\n",
       "      <th>departure_time</th>\n",
       "      <th>stops</th>\n",
       "      <th>arrival_time</th>\n",
       "      <th>destination_city</th>\n",
       "      <th>class</th>\n",
       "      <th>duration</th>\n",
       "      <th>days_left</th>\n",
       "      <th>price</th>\n",
       "    </tr>\n",
       "  </thead>\n",
       "  <tbody>\n",
       "    <tr>\n",
       "      <th>8</th>\n",
       "      <td>GO_FIRST</td>\n",
       "      <td>G8-334</td>\n",
       "      <td>Delhi</td>\n",
       "      <td>Early_Morning</td>\n",
       "      <td>zero</td>\n",
       "      <td>Morning</td>\n",
       "      <td>Mumbai</td>\n",
       "      <td>Economy</td>\n",
       "      <td>2.17</td>\n",
       "      <td>1</td>\n",
       "      <td>5954</td>\n",
       "    </tr>\n",
       "    <tr>\n",
       "      <th>9</th>\n",
       "      <td>GO_FIRST</td>\n",
       "      <td>G8-336</td>\n",
       "      <td>Delhi</td>\n",
       "      <td>Afternoon</td>\n",
       "      <td>zero</td>\n",
       "      <td>Evening</td>\n",
       "      <td>Mumbai</td>\n",
       "      <td>Economy</td>\n",
       "      <td>2.25</td>\n",
       "      <td>1</td>\n",
       "      <td>5954</td>\n",
       "    </tr>\n",
       "    <tr>\n",
       "      <th>10</th>\n",
       "      <td>GO_FIRST</td>\n",
       "      <td>G8-392</td>\n",
       "      <td>Delhi</td>\n",
       "      <td>Afternoon</td>\n",
       "      <td>zero</td>\n",
       "      <td>Evening</td>\n",
       "      <td>Mumbai</td>\n",
       "      <td>Economy</td>\n",
       "      <td>2.25</td>\n",
       "      <td>1</td>\n",
       "      <td>5954</td>\n",
       "    </tr>\n",
       "    <tr>\n",
       "      <th>11</th>\n",
       "      <td>GO_FIRST</td>\n",
       "      <td>G8-338</td>\n",
       "      <td>Delhi</td>\n",
       "      <td>Morning</td>\n",
       "      <td>zero</td>\n",
       "      <td>Afternoon</td>\n",
       "      <td>Mumbai</td>\n",
       "      <td>Economy</td>\n",
       "      <td>2.33</td>\n",
       "      <td>1</td>\n",
       "      <td>5954</td>\n",
       "    </tr>\n",
       "    <tr>\n",
       "      <th>20</th>\n",
       "      <td>GO_FIRST</td>\n",
       "      <td>G8-266</td>\n",
       "      <td>Delhi</td>\n",
       "      <td>Early_Morning</td>\n",
       "      <td>one</td>\n",
       "      <td>Evening</td>\n",
       "      <td>Mumbai</td>\n",
       "      <td>Economy</td>\n",
       "      <td>11.75</td>\n",
       "      <td>1</td>\n",
       "      <td>5954</td>\n",
       "    </tr>\n",
       "    <tr>\n",
       "      <th>...</th>\n",
       "      <td>...</td>\n",
       "      <td>...</td>\n",
       "      <td>...</td>\n",
       "      <td>...</td>\n",
       "      <td>...</td>\n",
       "      <td>...</td>\n",
       "      <td>...</td>\n",
       "      <td>...</td>\n",
       "      <td>...</td>\n",
       "      <td>...</td>\n",
       "      <td>...</td>\n",
       "    </tr>\n",
       "    <tr>\n",
       "      <th>206320</th>\n",
       "      <td>GO_FIRST</td>\n",
       "      <td>G8-911</td>\n",
       "      <td>Chennai</td>\n",
       "      <td>Afternoon</td>\n",
       "      <td>one</td>\n",
       "      <td>Night</td>\n",
       "      <td>Hyderabad</td>\n",
       "      <td>Economy</td>\n",
       "      <td>7.58</td>\n",
       "      <td>45</td>\n",
       "      <td>4933</td>\n",
       "    </tr>\n",
       "    <tr>\n",
       "      <th>206352</th>\n",
       "      <td>GO_FIRST</td>\n",
       "      <td>G8-504</td>\n",
       "      <td>Chennai</td>\n",
       "      <td>Afternoon</td>\n",
       "      <td>zero</td>\n",
       "      <td>Afternoon</td>\n",
       "      <td>Hyderabad</td>\n",
       "      <td>Economy</td>\n",
       "      <td>1.00</td>\n",
       "      <td>46</td>\n",
       "      <td>1105</td>\n",
       "    </tr>\n",
       "    <tr>\n",
       "      <th>206432</th>\n",
       "      <td>GO_FIRST</td>\n",
       "      <td>G8-504</td>\n",
       "      <td>Chennai</td>\n",
       "      <td>Afternoon</td>\n",
       "      <td>zero</td>\n",
       "      <td>Afternoon</td>\n",
       "      <td>Hyderabad</td>\n",
       "      <td>Economy</td>\n",
       "      <td>1.00</td>\n",
       "      <td>47</td>\n",
       "      <td>1105</td>\n",
       "    </tr>\n",
       "    <tr>\n",
       "      <th>206509</th>\n",
       "      <td>GO_FIRST</td>\n",
       "      <td>G8-504</td>\n",
       "      <td>Chennai</td>\n",
       "      <td>Afternoon</td>\n",
       "      <td>zero</td>\n",
       "      <td>Afternoon</td>\n",
       "      <td>Hyderabad</td>\n",
       "      <td>Economy</td>\n",
       "      <td>1.00</td>\n",
       "      <td>48</td>\n",
       "      <td>1105</td>\n",
       "    </tr>\n",
       "    <tr>\n",
       "      <th>206589</th>\n",
       "      <td>GO_FIRST</td>\n",
       "      <td>G8-504</td>\n",
       "      <td>Chennai</td>\n",
       "      <td>Afternoon</td>\n",
       "      <td>zero</td>\n",
       "      <td>Afternoon</td>\n",
       "      <td>Hyderabad</td>\n",
       "      <td>Economy</td>\n",
       "      <td>1.00</td>\n",
       "      <td>49</td>\n",
       "      <td>1105</td>\n",
       "    </tr>\n",
       "  </tbody>\n",
       "</table>\n",
       "<p>23173 rows × 11 columns</p>\n",
       "</div>"
      ],
      "text/plain": [
       "         airline  flight source_city departure_time stops arrival_time  \\\n",
       "8       GO_FIRST  G8-334       Delhi  Early_Morning  zero      Morning   \n",
       "9       GO_FIRST  G8-336       Delhi      Afternoon  zero      Evening   \n",
       "10      GO_FIRST  G8-392       Delhi      Afternoon  zero      Evening   \n",
       "11      GO_FIRST  G8-338       Delhi        Morning  zero    Afternoon   \n",
       "20      GO_FIRST  G8-266       Delhi  Early_Morning   one      Evening   \n",
       "...          ...     ...         ...            ...   ...          ...   \n",
       "206320  GO_FIRST  G8-911     Chennai      Afternoon   one        Night   \n",
       "206352  GO_FIRST  G8-504     Chennai      Afternoon  zero    Afternoon   \n",
       "206432  GO_FIRST  G8-504     Chennai      Afternoon  zero    Afternoon   \n",
       "206509  GO_FIRST  G8-504     Chennai      Afternoon  zero    Afternoon   \n",
       "206589  GO_FIRST  G8-504     Chennai      Afternoon  zero    Afternoon   \n",
       "\n",
       "       destination_city    class  duration  days_left  price  \n",
       "8                Mumbai  Economy      2.17          1   5954  \n",
       "9                Mumbai  Economy      2.25          1   5954  \n",
       "10               Mumbai  Economy      2.25          1   5954  \n",
       "11               Mumbai  Economy      2.33          1   5954  \n",
       "20               Mumbai  Economy     11.75          1   5954  \n",
       "...                 ...      ...       ...        ...    ...  \n",
       "206320        Hyderabad  Economy      7.58         45   4933  \n",
       "206352        Hyderabad  Economy      1.00         46   1105  \n",
       "206432        Hyderabad  Economy      1.00         47   1105  \n",
       "206509        Hyderabad  Economy      1.00         48   1105  \n",
       "206589        Hyderabad  Economy      1.00         49   1105  \n",
       "\n",
       "[23173 rows x 11 columns]"
      ]
     },
     "execution_count": 31,
     "metadata": {},
     "output_type": "execute_result"
    }
   ],
   "source": [
    "GO_FIRST=flightfare.loc[flightfare['airline']=='GO_FIRST']\n",
    "GO_FIRST"
   ]
  },
  {
   "cell_type": "code",
   "execution_count": 32,
   "id": "073b365c",
   "metadata": {},
   "outputs": [
    {
     "data": {
      "image/png": "[encoded data removed]",
      "text/plain": [
       "<Figure size 500x500 with 1 Axes>"
      ]
     },
     "metadata": {},
     "output_type": "display_data"
    }
   ],
   "source": [
    "#checking price variation of go first airlines\n",
    "sns.displot(data=GO_FIRST, x=\"price\")\n",
    "plt.show()"
   ]
  },
  {
   "cell_type": "markdown",
   "id": "fa79d695",
   "metadata": {},
   "source": [
    "Approximate Range\n",
    "Economy Class from 1500 to 15000"
   ]
  },
  {
   "cell_type": "code",
   "execution_count": 33,
   "id": "af4dde03",
   "metadata": {},
   "outputs": [
    {
     "data": {
      "text/plain": [
       "5652.007595045959"
      ]
     },
     "execution_count": 33,
     "metadata": {},
     "output_type": "execute_result"
    }
   ],
   "source": [
    "GO_FIRST[\"price\"].mean()"
   ]
  },
  {
   "cell_type": "markdown",
   "id": "b186c2ef",
   "metadata": {},
   "source": [
    "**The average Price Of Go First airlines is 5.6k**"
   ]
  },
  {
   "cell_type": "code",
   "execution_count": 34,
   "id": "b6d846ae",
   "metadata": {},
   "outputs": [
    {
     "data": {
      "text/html": [
       "<div>\n",
       "<style scoped>\n",
       "    .dataframe tbody tr th:only-of-type {\n",
       "        vertical-align: middle;\n",
       "    }\n",
       "\n",
       "    .dataframe tbody tr th {\n",
       "        vertical-align: top;\n",
       "    }\n",
       "\n",
       "    .dataframe thead th {\n",
       "        text-align: right;\n",
       "    }\n",
       "</style>\n",
       "<table border=\"1\" class=\"dataframe\">\n",
       "  <thead>\n",
       "    <tr style=\"text-align: right;\">\n",
       "      <th></th>\n",
       "      <th>airline</th>\n",
       "      <th>flight</th>\n",
       "      <th>source_city</th>\n",
       "      <th>departure_time</th>\n",
       "      <th>stops</th>\n",
       "      <th>arrival_time</th>\n",
       "      <th>destination_city</th>\n",
       "      <th>class</th>\n",
       "      <th>duration</th>\n",
       "      <th>days_left</th>\n",
       "      <th>price</th>\n",
       "    </tr>\n",
       "  </thead>\n",
       "  <tbody>\n",
       "    <tr>\n",
       "      <th>2</th>\n",
       "      <td>AirAsia</td>\n",
       "      <td>I5-764</td>\n",
       "      <td>Delhi</td>\n",
       "      <td>Early_Morning</td>\n",
       "      <td>zero</td>\n",
       "      <td>Early_Morning</td>\n",
       "      <td>Mumbai</td>\n",
       "      <td>Economy</td>\n",
       "      <td>2.17</td>\n",
       "      <td>1</td>\n",
       "      <td>5956</td>\n",
       "    </tr>\n",
       "    <tr>\n",
       "      <th>18</th>\n",
       "      <td>AirAsia</td>\n",
       "      <td>I5-747</td>\n",
       "      <td>Delhi</td>\n",
       "      <td>Evening</td>\n",
       "      <td>one</td>\n",
       "      <td>Early_Morning</td>\n",
       "      <td>Mumbai</td>\n",
       "      <td>Economy</td>\n",
       "      <td>12.25</td>\n",
       "      <td>1</td>\n",
       "      <td>5949</td>\n",
       "    </tr>\n",
       "    <tr>\n",
       "      <th>19</th>\n",
       "      <td>AirAsia</td>\n",
       "      <td>I5-747</td>\n",
       "      <td>Delhi</td>\n",
       "      <td>Evening</td>\n",
       "      <td>one</td>\n",
       "      <td>Morning</td>\n",
       "      <td>Mumbai</td>\n",
       "      <td>Economy</td>\n",
       "      <td>16.33</td>\n",
       "      <td>1</td>\n",
       "      <td>5949</td>\n",
       "    </tr>\n",
       "    <tr>\n",
       "      <th>27</th>\n",
       "      <td>AirAsia</td>\n",
       "      <td>I5-744</td>\n",
       "      <td>Delhi</td>\n",
       "      <td>Morning</td>\n",
       "      <td>one</td>\n",
       "      <td>Afternoon</td>\n",
       "      <td>Mumbai</td>\n",
       "      <td>Economy</td>\n",
       "      <td>5.83</td>\n",
       "      <td>1</td>\n",
       "      <td>8869</td>\n",
       "    </tr>\n",
       "    <tr>\n",
       "      <th>48</th>\n",
       "      <td>AirAsia</td>\n",
       "      <td>I5-784</td>\n",
       "      <td>Delhi</td>\n",
       "      <td>Evening</td>\n",
       "      <td>one</td>\n",
       "      <td>Early_Morning</td>\n",
       "      <td>Mumbai</td>\n",
       "      <td>Economy</td>\n",
       "      <td>15.17</td>\n",
       "      <td>1</td>\n",
       "      <td>12539</td>\n",
       "    </tr>\n",
       "    <tr>\n",
       "      <th>...</th>\n",
       "      <td>...</td>\n",
       "      <td>...</td>\n",
       "      <td>...</td>\n",
       "      <td>...</td>\n",
       "      <td>...</td>\n",
       "      <td>...</td>\n",
       "      <td>...</td>\n",
       "      <td>...</td>\n",
       "      <td>...</td>\n",
       "      <td>...</td>\n",
       "      <td>...</td>\n",
       "    </tr>\n",
       "    <tr>\n",
       "      <th>206538</th>\n",
       "      <td>AirAsia</td>\n",
       "      <td>I5-1229</td>\n",
       "      <td>Chennai</td>\n",
       "      <td>Night</td>\n",
       "      <td>one</td>\n",
       "      <td>Morning</td>\n",
       "      <td>Hyderabad</td>\n",
       "      <td>Economy</td>\n",
       "      <td>9.25</td>\n",
       "      <td>48</td>\n",
       "      <td>1550</td>\n",
       "    </tr>\n",
       "    <tr>\n",
       "      <th>206539</th>\n",
       "      <td>AirAsia</td>\n",
       "      <td>I5-2462</td>\n",
       "      <td>Chennai</td>\n",
       "      <td>Night</td>\n",
       "      <td>one</td>\n",
       "      <td>Morning</td>\n",
       "      <td>Hyderabad</td>\n",
       "      <td>Economy</td>\n",
       "      <td>10.17</td>\n",
       "      <td>48</td>\n",
       "      <td>1550</td>\n",
       "    </tr>\n",
       "    <tr>\n",
       "      <th>206591</th>\n",
       "      <td>AirAsia</td>\n",
       "      <td>I5-517</td>\n",
       "      <td>Chennai</td>\n",
       "      <td>Morning</td>\n",
       "      <td>zero</td>\n",
       "      <td>Morning</td>\n",
       "      <td>Hyderabad</td>\n",
       "      <td>Economy</td>\n",
       "      <td>1.17</td>\n",
       "      <td>49</td>\n",
       "      <td>1105</td>\n",
       "    </tr>\n",
       "    <tr>\n",
       "      <th>206616</th>\n",
       "      <td>AirAsia</td>\n",
       "      <td>I5-1229</td>\n",
       "      <td>Chennai</td>\n",
       "      <td>Night</td>\n",
       "      <td>one</td>\n",
       "      <td>Morning</td>\n",
       "      <td>Hyderabad</td>\n",
       "      <td>Economy</td>\n",
       "      <td>9.25</td>\n",
       "      <td>49</td>\n",
       "      <td>1550</td>\n",
       "    </tr>\n",
       "    <tr>\n",
       "      <th>206617</th>\n",
       "      <td>AirAsia</td>\n",
       "      <td>I5-2462</td>\n",
       "      <td>Chennai</td>\n",
       "      <td>Night</td>\n",
       "      <td>one</td>\n",
       "      <td>Morning</td>\n",
       "      <td>Hyderabad</td>\n",
       "      <td>Economy</td>\n",
       "      <td>10.17</td>\n",
       "      <td>49</td>\n",
       "      <td>1550</td>\n",
       "    </tr>\n",
       "  </tbody>\n",
       "</table>\n",
       "<p>16098 rows × 11 columns</p>\n",
       "</div>"
      ],
      "text/plain": [
       "        airline   flight source_city departure_time stops   arrival_time  \\\n",
       "2       AirAsia   I5-764       Delhi  Early_Morning  zero  Early_Morning   \n",
       "18      AirAsia   I5-747       Delhi        Evening   one  Early_Morning   \n",
       "19      AirAsia   I5-747       Delhi        Evening   one        Morning   \n",
       "27      AirAsia   I5-744       Delhi        Morning   one      Afternoon   \n",
       "48      AirAsia   I5-784       Delhi        Evening   one  Early_Morning   \n",
       "...         ...      ...         ...            ...   ...            ...   \n",
       "206538  AirAsia  I5-1229     Chennai          Night   one        Morning   \n",
       "206539  AirAsia  I5-2462     Chennai          Night   one        Morning   \n",
       "206591  AirAsia   I5-517     Chennai        Morning  zero        Morning   \n",
       "206616  AirAsia  I5-1229     Chennai          Night   one        Morning   \n",
       "206617  AirAsia  I5-2462     Chennai          Night   one        Morning   \n",
       "\n",
       "       destination_city    class  duration  days_left  price  \n",
       "2                Mumbai  Economy      2.17          1   5956  \n",
       "18               Mumbai  Economy     12.25          1   5949  \n",
       "19               Mumbai  Economy     16.33          1   5949  \n",
       "27               Mumbai  Economy      5.83          1   8869  \n",
       "48               Mumbai  Economy     15.17          1  12539  \n",
       "...                 ...      ...       ...        ...    ...  \n",
       "206538        Hyderabad  Economy      9.25         48   1550  \n",
       "206539        Hyderabad  Economy     10.17         48   1550  \n",
       "206591        Hyderabad  Economy      1.17         49   1105  \n",
       "206616        Hyderabad  Economy      9.25         49   1550  \n",
       "206617        Hyderabad  Economy     10.17         49   1550  \n",
       "\n",
       "[16098 rows x 11 columns]"
      ]
     },
     "execution_count": 34,
     "metadata": {},
     "output_type": "execute_result"
    }
   ],
   "source": [
    "AirAsia=flightfare.loc[flightfare['airline']=='AirAsia']\n",
    "AirAsia"
   ]
  },
  {
   "cell_type": "code",
   "execution_count": 35,
   "id": "00430082",
   "metadata": {},
   "outputs": [
    {
     "data": {
      "image/png": "[encoded data removed]",
      "text/plain": [
       "<Figure size 500x500 with 1 Axes>"
      ]
     },
     "metadata": {},
     "output_type": "display_data"
    }
   ],
   "source": [
    "#checking price variation of go first airlines\n",
    "sns.displot(data=AirAsia, x=\"price\")\n",
    "plt.show()"
   ]
  },
  {
   "cell_type": "markdown",
   "id": "2bd6993b",
   "metadata": {},
   "source": [
    "Approximate Range\n",
    "Economy Class from 1500 to 15000"
   ]
  },
  {
   "cell_type": "code",
   "execution_count": 36,
   "id": "55c273c5",
   "metadata": {},
   "outputs": [
    {
     "data": {
      "text/plain": [
       "4091.0727419555224"
      ]
     },
     "execution_count": 36,
     "metadata": {},
     "output_type": "execute_result"
    }
   ],
   "source": [
    "AirAsia[\"price\"].mean()"
   ]
  },
  {
   "cell_type": "markdown",
   "id": "4e31d695",
   "metadata": {},
   "source": [
    "**The average Price Of AirAsia airlines is 4k**"
   ]
  },
  {
   "cell_type": "code",
   "execution_count": 37,
   "id": "75c379e1",
   "metadata": {},
   "outputs": [
    {
     "data": {
      "text/html": [
       "<div>\n",
       "<style scoped>\n",
       "    .dataframe tbody tr th:only-of-type {\n",
       "        vertical-align: middle;\n",
       "    }\n",
       "\n",
       "    .dataframe tbody tr th {\n",
       "        vertical-align: top;\n",
       "    }\n",
       "\n",
       "    .dataframe thead th {\n",
       "        text-align: right;\n",
       "    }\n",
       "</style>\n",
       "<table border=\"1\" class=\"dataframe\">\n",
       "  <thead>\n",
       "    <tr style=\"text-align: right;\">\n",
       "      <th></th>\n",
       "      <th>airline</th>\n",
       "      <th>flight</th>\n",
       "      <th>source_city</th>\n",
       "      <th>departure_time</th>\n",
       "      <th>stops</th>\n",
       "      <th>arrival_time</th>\n",
       "      <th>destination_city</th>\n",
       "      <th>class</th>\n",
       "      <th>duration</th>\n",
       "      <th>days_left</th>\n",
       "      <th>price</th>\n",
       "    </tr>\n",
       "  </thead>\n",
       "  <tbody>\n",
       "    <tr>\n",
       "      <th>0</th>\n",
       "      <td>SpiceJet</td>\n",
       "      <td>SG-8709</td>\n",
       "      <td>Delhi</td>\n",
       "      <td>Evening</td>\n",
       "      <td>zero</td>\n",
       "      <td>Night</td>\n",
       "      <td>Mumbai</td>\n",
       "      <td>Economy</td>\n",
       "      <td>2.17</td>\n",
       "      <td>1</td>\n",
       "      <td>5953</td>\n",
       "    </tr>\n",
       "    <tr>\n",
       "      <th>1</th>\n",
       "      <td>SpiceJet</td>\n",
       "      <td>SG-8157</td>\n",
       "      <td>Delhi</td>\n",
       "      <td>Early_Morning</td>\n",
       "      <td>zero</td>\n",
       "      <td>Morning</td>\n",
       "      <td>Mumbai</td>\n",
       "      <td>Economy</td>\n",
       "      <td>2.33</td>\n",
       "      <td>1</td>\n",
       "      <td>5953</td>\n",
       "    </tr>\n",
       "    <tr>\n",
       "      <th>28</th>\n",
       "      <td>SpiceJet</td>\n",
       "      <td>SG-8169</td>\n",
       "      <td>Delhi</td>\n",
       "      <td>Evening</td>\n",
       "      <td>zero</td>\n",
       "      <td>Night</td>\n",
       "      <td>Mumbai</td>\n",
       "      <td>Economy</td>\n",
       "      <td>2.33</td>\n",
       "      <td>1</td>\n",
       "      <td>10260</td>\n",
       "    </tr>\n",
       "    <tr>\n",
       "      <th>38</th>\n",
       "      <td>SpiceJet</td>\n",
       "      <td>SG-2976</td>\n",
       "      <td>Delhi</td>\n",
       "      <td>Evening</td>\n",
       "      <td>one</td>\n",
       "      <td>Night</td>\n",
       "      <td>Mumbai</td>\n",
       "      <td>Economy</td>\n",
       "      <td>4.50</td>\n",
       "      <td>1</td>\n",
       "      <td>12123</td>\n",
       "    </tr>\n",
       "    <tr>\n",
       "      <th>39</th>\n",
       "      <td>SpiceJet</td>\n",
       "      <td>SG-2976</td>\n",
       "      <td>Delhi</td>\n",
       "      <td>Evening</td>\n",
       "      <td>one</td>\n",
       "      <td>Morning</td>\n",
       "      <td>Mumbai</td>\n",
       "      <td>Economy</td>\n",
       "      <td>15.25</td>\n",
       "      <td>1</td>\n",
       "      <td>12123</td>\n",
       "    </tr>\n",
       "    <tr>\n",
       "      <th>...</th>\n",
       "      <td>...</td>\n",
       "      <td>...</td>\n",
       "      <td>...</td>\n",
       "      <td>...</td>\n",
       "      <td>...</td>\n",
       "      <td>...</td>\n",
       "      <td>...</td>\n",
       "      <td>...</td>\n",
       "      <td>...</td>\n",
       "      <td>...</td>\n",
       "      <td>...</td>\n",
       "    </tr>\n",
       "    <tr>\n",
       "      <th>205560</th>\n",
       "      <td>SpiceJet</td>\n",
       "      <td>SG-731</td>\n",
       "      <td>Chennai</td>\n",
       "      <td>Early_Morning</td>\n",
       "      <td>zero</td>\n",
       "      <td>Early_Morning</td>\n",
       "      <td>Hyderabad</td>\n",
       "      <td>Economy</td>\n",
       "      <td>1.25</td>\n",
       "      <td>37</td>\n",
       "      <td>1551</td>\n",
       "    </tr>\n",
       "    <tr>\n",
       "      <th>205644</th>\n",
       "      <td>SpiceJet</td>\n",
       "      <td>SG-731</td>\n",
       "      <td>Chennai</td>\n",
       "      <td>Early_Morning</td>\n",
       "      <td>zero</td>\n",
       "      <td>Early_Morning</td>\n",
       "      <td>Hyderabad</td>\n",
       "      <td>Economy</td>\n",
       "      <td>1.25</td>\n",
       "      <td>38</td>\n",
       "      <td>1106</td>\n",
       "    </tr>\n",
       "    <tr>\n",
       "      <th>205822</th>\n",
       "      <td>SpiceJet</td>\n",
       "      <td>SG-731</td>\n",
       "      <td>Chennai</td>\n",
       "      <td>Early_Morning</td>\n",
       "      <td>zero</td>\n",
       "      <td>Early_Morning</td>\n",
       "      <td>Hyderabad</td>\n",
       "      <td>Economy</td>\n",
       "      <td>1.25</td>\n",
       "      <td>40</td>\n",
       "      <td>1106</td>\n",
       "    </tr>\n",
       "    <tr>\n",
       "      <th>206005</th>\n",
       "      <td>SpiceJet</td>\n",
       "      <td>SG-731</td>\n",
       "      <td>Chennai</td>\n",
       "      <td>Early_Morning</td>\n",
       "      <td>zero</td>\n",
       "      <td>Early_Morning</td>\n",
       "      <td>Hyderabad</td>\n",
       "      <td>Economy</td>\n",
       "      <td>1.25</td>\n",
       "      <td>42</td>\n",
       "      <td>1106</td>\n",
       "    </tr>\n",
       "    <tr>\n",
       "      <th>206184</th>\n",
       "      <td>SpiceJet</td>\n",
       "      <td>SG-731</td>\n",
       "      <td>Chennai</td>\n",
       "      <td>Early_Morning</td>\n",
       "      <td>zero</td>\n",
       "      <td>Early_Morning</td>\n",
       "      <td>Hyderabad</td>\n",
       "      <td>Economy</td>\n",
       "      <td>1.25</td>\n",
       "      <td>44</td>\n",
       "      <td>1106</td>\n",
       "    </tr>\n",
       "  </tbody>\n",
       "</table>\n",
       "<p>9011 rows × 11 columns</p>\n",
       "</div>"
      ],
      "text/plain": [
       "         airline   flight source_city departure_time stops   arrival_time  \\\n",
       "0       SpiceJet  SG-8709       Delhi        Evening  zero          Night   \n",
       "1       SpiceJet  SG-8157       Delhi  Early_Morning  zero        Morning   \n",
       "28      SpiceJet  SG-8169       Delhi        Evening  zero          Night   \n",
       "38      SpiceJet  SG-2976       Delhi        Evening   one          Night   \n",
       "39      SpiceJet  SG-2976       Delhi        Evening   one        Morning   \n",
       "...          ...      ...         ...            ...   ...            ...   \n",
       "205560  SpiceJet   SG-731     Chennai  Early_Morning  zero  Early_Morning   \n",
       "205644  SpiceJet   SG-731     Chennai  Early_Morning  zero  Early_Morning   \n",
       "205822  SpiceJet   SG-731     Chennai  Early_Morning  zero  Early_Morning   \n",
       "206005  SpiceJet   SG-731     Chennai  Early_Morning  zero  Early_Morning   \n",
       "206184  SpiceJet   SG-731     Chennai  Early_Morning  zero  Early_Morning   \n",
       "\n",
       "       destination_city    class  duration  days_left  price  \n",
       "0                Mumbai  Economy      2.17          1   5953  \n",
       "1                Mumbai  Economy      2.33          1   5953  \n",
       "28               Mumbai  Economy      2.33          1  10260  \n",
       "38               Mumbai  Economy      4.50          1  12123  \n",
       "39               Mumbai  Economy     15.25          1  12123  \n",
       "...                 ...      ...       ...        ...    ...  \n",
       "205560        Hyderabad  Economy      1.25         37   1551  \n",
       "205644        Hyderabad  Economy      1.25         38   1106  \n",
       "205822        Hyderabad  Economy      1.25         40   1106  \n",
       "206005        Hyderabad  Economy      1.25         42   1106  \n",
       "206184        Hyderabad  Economy      1.25         44   1106  \n",
       "\n",
       "[9011 rows x 11 columns]"
      ]
     },
     "execution_count": 37,
     "metadata": {},
     "output_type": "execute_result"
    }
   ],
   "source": [
    "SpiceJet=flightfare.loc[flightfare['airline']=='SpiceJet']\n",
    "SpiceJet"
   ]
  },
  {
   "cell_type": "code",
   "execution_count": 38,
   "id": "1a691c40",
   "metadata": {},
   "outputs": [
    {
     "data": {
      "image/png": "[encoded data removed]",
      "text/plain": [
       "<Figure size 500x500 with 1 Axes>"
      ]
     },
     "metadata": {},
     "output_type": "display_data"
    }
   ],
   "source": [
    "#checking price variation of go first airlines\n",
    "sns.displot(data=SpiceJet, x=\"price\")\n",
    "plt.show()"
   ]
  },
  {
   "cell_type": "markdown",
   "id": "da75f1cc",
   "metadata": {},
   "source": [
    "Approximate Range\n",
    "Economy Class from 1500 to 20000"
   ]
  },
  {
   "cell_type": "code",
   "execution_count": 39,
   "id": "a588a709",
   "metadata": {},
   "outputs": [
    {
     "data": {
      "text/plain": [
       "6179.278881367218"
      ]
     },
     "execution_count": 39,
     "metadata": {},
     "output_type": "execute_result"
    }
   ],
   "source": [
    "SpiceJet[\"price\"].mean()"
   ]
  },
  {
   "cell_type": "markdown",
   "id": "2c6beda5",
   "metadata": {},
   "source": [
    "**The average Price Of Spicejet airlines is 6.1k**"
   ]
  },
  {
   "cell_type": "code",
   "execution_count": 40,
   "id": "c7ac2e96",
   "metadata": {},
   "outputs": [
    {
     "data": {
      "text/plain": [
       "count    300153.000000\n",
       "mean      20889.660523\n",
       "std       22697.767366\n",
       "min        1105.000000\n",
       "25%        4783.000000\n",
       "50%        7425.000000\n",
       "75%       42521.000000\n",
       "max      123071.000000\n",
       "Name: price, dtype: float64"
      ]
     },
     "execution_count": 40,
     "metadata": {},
     "output_type": "execute_result"
    }
   ],
   "source": [
    "flightfare['price'].describe()"
   ]
  },
  {
   "cell_type": "code",
   "execution_count": 41,
   "id": "8da16bc4",
   "metadata": {},
   "outputs": [
    {
     "data": {
      "text/html": [
       "<div>\n",
       "<style scoped>\n",
       "    .dataframe tbody tr th:only-of-type {\n",
       "        vertical-align: middle;\n",
       "    }\n",
       "\n",
       "    .dataframe tbody tr th {\n",
       "        vertical-align: top;\n",
       "    }\n",
       "\n",
       "    .dataframe thead th {\n",
       "        text-align: right;\n",
       "    }\n",
       "</style>\n",
       "<table border=\"1\" class=\"dataframe\">\n",
       "  <thead>\n",
       "    <tr style=\"text-align: right;\">\n",
       "      <th></th>\n",
       "      <th>airline</th>\n",
       "      <th>flight</th>\n",
       "      <th>source_city</th>\n",
       "      <th>departure_time</th>\n",
       "      <th>stops</th>\n",
       "      <th>arrival_time</th>\n",
       "      <th>destination_city</th>\n",
       "      <th>class</th>\n",
       "      <th>duration</th>\n",
       "      <th>days_left</th>\n",
       "      <th>price</th>\n",
       "    </tr>\n",
       "  </thead>\n",
       "  <tbody>\n",
       "    <tr>\n",
       "      <th>203807</th>\n",
       "      <td>AirAsia</td>\n",
       "      <td>I5-517</td>\n",
       "      <td>Chennai</td>\n",
       "      <td>Morning</td>\n",
       "      <td>zero</td>\n",
       "      <td>Morning</td>\n",
       "      <td>Hyderabad</td>\n",
       "      <td>Economy</td>\n",
       "      <td>1.17</td>\n",
       "      <td>16</td>\n",
       "      <td>1105</td>\n",
       "    </tr>\n",
       "    <tr>\n",
       "      <th>203808</th>\n",
       "      <td>GO_FIRST</td>\n",
       "      <td>G8-505</td>\n",
       "      <td>Chennai</td>\n",
       "      <td>Evening</td>\n",
       "      <td>zero</td>\n",
       "      <td>Evening</td>\n",
       "      <td>Hyderabad</td>\n",
       "      <td>Economy</td>\n",
       "      <td>1.25</td>\n",
       "      <td>16</td>\n",
       "      <td>1105</td>\n",
       "    </tr>\n",
       "    <tr>\n",
       "      <th>203908</th>\n",
       "      <td>AirAsia</td>\n",
       "      <td>I5-517</td>\n",
       "      <td>Chennai</td>\n",
       "      <td>Morning</td>\n",
       "      <td>zero</td>\n",
       "      <td>Morning</td>\n",
       "      <td>Hyderabad</td>\n",
       "      <td>Economy</td>\n",
       "      <td>1.17</td>\n",
       "      <td>17</td>\n",
       "      <td>1105</td>\n",
       "    </tr>\n",
       "    <tr>\n",
       "      <th>203909</th>\n",
       "      <td>GO_FIRST</td>\n",
       "      <td>G8-505</td>\n",
       "      <td>Chennai</td>\n",
       "      <td>Evening</td>\n",
       "      <td>zero</td>\n",
       "      <td>Evening</td>\n",
       "      <td>Hyderabad</td>\n",
       "      <td>Economy</td>\n",
       "      <td>1.25</td>\n",
       "      <td>17</td>\n",
       "      <td>1105</td>\n",
       "    </tr>\n",
       "    <tr>\n",
       "      <th>204003</th>\n",
       "      <td>AirAsia</td>\n",
       "      <td>I5-517</td>\n",
       "      <td>Chennai</td>\n",
       "      <td>Morning</td>\n",
       "      <td>zero</td>\n",
       "      <td>Morning</td>\n",
       "      <td>Hyderabad</td>\n",
       "      <td>Economy</td>\n",
       "      <td>1.17</td>\n",
       "      <td>18</td>\n",
       "      <td>1105</td>\n",
       "    </tr>\n",
       "    <tr>\n",
       "      <th>...</th>\n",
       "      <td>...</td>\n",
       "      <td>...</td>\n",
       "      <td>...</td>\n",
       "      <td>...</td>\n",
       "      <td>...</td>\n",
       "      <td>...</td>\n",
       "      <td>...</td>\n",
       "      <td>...</td>\n",
       "      <td>...</td>\n",
       "      <td>...</td>\n",
       "      <td>...</td>\n",
       "    </tr>\n",
       "    <tr>\n",
       "      <th>206601</th>\n",
       "      <td>Indigo</td>\n",
       "      <td>6E-7261</td>\n",
       "      <td>Chennai</td>\n",
       "      <td>Morning</td>\n",
       "      <td>one</td>\n",
       "      <td>Evening</td>\n",
       "      <td>Hyderabad</td>\n",
       "      <td>Economy</td>\n",
       "      <td>7.92</td>\n",
       "      <td>49</td>\n",
       "      <td>1105</td>\n",
       "    </tr>\n",
       "    <tr>\n",
       "      <th>206602</th>\n",
       "      <td>Indigo</td>\n",
       "      <td>6E-611</td>\n",
       "      <td>Chennai</td>\n",
       "      <td>Evening</td>\n",
       "      <td>one</td>\n",
       "      <td>Late_Night</td>\n",
       "      <td>Hyderabad</td>\n",
       "      <td>Economy</td>\n",
       "      <td>8.25</td>\n",
       "      <td>49</td>\n",
       "      <td>1105</td>\n",
       "    </tr>\n",
       "    <tr>\n",
       "      <th>206603</th>\n",
       "      <td>Indigo</td>\n",
       "      <td>6E-581</td>\n",
       "      <td>Chennai</td>\n",
       "      <td>Morning</td>\n",
       "      <td>one</td>\n",
       "      <td>Evening</td>\n",
       "      <td>Hyderabad</td>\n",
       "      <td>Economy</td>\n",
       "      <td>9.17</td>\n",
       "      <td>49</td>\n",
       "      <td>1105</td>\n",
       "    </tr>\n",
       "    <tr>\n",
       "      <th>206604</th>\n",
       "      <td>Indigo</td>\n",
       "      <td>6E-7127</td>\n",
       "      <td>Chennai</td>\n",
       "      <td>Afternoon</td>\n",
       "      <td>one</td>\n",
       "      <td>Night</td>\n",
       "      <td>Hyderabad</td>\n",
       "      <td>Economy</td>\n",
       "      <td>9.50</td>\n",
       "      <td>49</td>\n",
       "      <td>1105</td>\n",
       "    </tr>\n",
       "    <tr>\n",
       "      <th>206605</th>\n",
       "      <td>Indigo</td>\n",
       "      <td>6E-7261</td>\n",
       "      <td>Chennai</td>\n",
       "      <td>Morning</td>\n",
       "      <td>one</td>\n",
       "      <td>Night</td>\n",
       "      <td>Hyderabad</td>\n",
       "      <td>Economy</td>\n",
       "      <td>10.08</td>\n",
       "      <td>49</td>\n",
       "      <td>1105</td>\n",
       "    </tr>\n",
       "  </tbody>\n",
       "</table>\n",
       "<p>300 rows × 11 columns</p>\n",
       "</div>"
      ],
      "text/plain": [
       "         airline   flight source_city departure_time stops arrival_time  \\\n",
       "203807   AirAsia   I5-517     Chennai        Morning  zero      Morning   \n",
       "203808  GO_FIRST   G8-505     Chennai        Evening  zero      Evening   \n",
       "203908   AirAsia   I5-517     Chennai        Morning  zero      Morning   \n",
       "203909  GO_FIRST   G8-505     Chennai        Evening  zero      Evening   \n",
       "204003   AirAsia   I5-517     Chennai        Morning  zero      Morning   \n",
       "...          ...      ...         ...            ...   ...          ...   \n",
       "206601    Indigo  6E-7261     Chennai        Morning   one      Evening   \n",
       "206602    Indigo   6E-611     Chennai        Evening   one   Late_Night   \n",
       "206603    Indigo   6E-581     Chennai        Morning   one      Evening   \n",
       "206604    Indigo  6E-7127     Chennai      Afternoon   one        Night   \n",
       "206605    Indigo  6E-7261     Chennai        Morning   one        Night   \n",
       "\n",
       "       destination_city    class  duration  days_left  price  \n",
       "203807        Hyderabad  Economy      1.17         16   1105  \n",
       "203808        Hyderabad  Economy      1.25         16   1105  \n",
       "203908        Hyderabad  Economy      1.17         17   1105  \n",
       "203909        Hyderabad  Economy      1.25         17   1105  \n",
       "204003        Hyderabad  Economy      1.17         18   1105  \n",
       "...                 ...      ...       ...        ...    ...  \n",
       "206601        Hyderabad  Economy      7.92         49   1105  \n",
       "206602        Hyderabad  Economy      8.25         49   1105  \n",
       "206603        Hyderabad  Economy      9.17         49   1105  \n",
       "206604        Hyderabad  Economy      9.50         49   1105  \n",
       "206605        Hyderabad  Economy     10.08         49   1105  \n",
       "\n",
       "[300 rows x 11 columns]"
      ]
     },
     "execution_count": 41,
     "metadata": {},
     "output_type": "execute_result"
    }
   ],
   "source": [
    "ds=flightfare[flightfare['price']==1105]\n",
    "ds\n"
   ]
  },
  {
   "cell_type": "code",
   "execution_count": 42,
   "id": "035da061",
   "metadata": {},
   "outputs": [
    {
     "data": {
      "text/plain": [
       "Indigo      236\n",
       "AirAsia      32\n",
       "GO_FIRST     32\n",
       "Name: airline, dtype: int64"
      ]
     },
     "execution_count": 42,
     "metadata": {},
     "output_type": "execute_result"
    }
   ],
   "source": [
    "ds['airline'].value_counts()"
   ]
  },
  {
   "cell_type": "code",
   "execution_count": 43,
   "id": "9c3340fb",
   "metadata": {},
   "outputs": [
    {
     "data": {
      "text/plain": [
       "Chennai    300\n",
       "Name: source_city, dtype: int64"
      ]
     },
     "execution_count": 43,
     "metadata": {},
     "output_type": "execute_result"
    }
   ],
   "source": [
    "ds[\"source_city\"].value_counts()"
   ]
  },
  {
   "cell_type": "markdown",
   "id": "b18d78cd",
   "metadata": {},
   "source": [
    "**The Lowest price of flight is from chennai to hyderabad of airlines- Indigo, AirAsia, Go First**"
   ]
  },
  {
   "cell_type": "code",
   "execution_count": 44,
   "id": "231815d7",
   "metadata": {},
   "outputs": [
    {
     "data": {
      "text/html": [
       "<div>\n",
       "<style scoped>\n",
       "    .dataframe tbody tr th:only-of-type {\n",
       "        vertical-align: middle;\n",
       "    }\n",
       "\n",
       "    .dataframe tbody tr th {\n",
       "        vertical-align: top;\n",
       "    }\n",
       "\n",
       "    .dataframe thead th {\n",
       "        text-align: right;\n",
       "    }\n",
       "</style>\n",
       "<table border=\"1\" class=\"dataframe\">\n",
       "  <thead>\n",
       "    <tr style=\"text-align: right;\">\n",
       "      <th></th>\n",
       "      <th>airline</th>\n",
       "      <th>flight</th>\n",
       "      <th>source_city</th>\n",
       "      <th>departure_time</th>\n",
       "      <th>stops</th>\n",
       "      <th>arrival_time</th>\n",
       "      <th>destination_city</th>\n",
       "      <th>class</th>\n",
       "      <th>duration</th>\n",
       "      <th>days_left</th>\n",
       "      <th>price</th>\n",
       "    </tr>\n",
       "  </thead>\n",
       "  <tbody>\n",
       "    <tr>\n",
       "      <th>261377</th>\n",
       "      <td>Vistara</td>\n",
       "      <td>UK-772</td>\n",
       "      <td>Kolkata</td>\n",
       "      <td>Morning</td>\n",
       "      <td>one</td>\n",
       "      <td>Night</td>\n",
       "      <td>Delhi</td>\n",
       "      <td>Business</td>\n",
       "      <td>13.5</td>\n",
       "      <td>3</td>\n",
       "      <td>123071</td>\n",
       "    </tr>\n",
       "  </tbody>\n",
       "</table>\n",
       "</div>"
      ],
      "text/plain": [
       "        airline  flight source_city departure_time stops arrival_time  \\\n",
       "261377  Vistara  UK-772     Kolkata        Morning   one        Night   \n",
       "\n",
       "       destination_city     class  duration  days_left   price  \n",
       "261377            Delhi  Business      13.5          3  123071  "
      ]
     },
     "execution_count": 44,
     "metadata": {},
     "output_type": "execute_result"
    }
   ],
   "source": [
    "dh=flightfare[flightfare['price']==123071]\n",
    "dh"
   ]
  },
  {
   "cell_type": "markdown",
   "id": "c8d7bb00",
   "metadata": {},
   "source": [
    "**The Highest Price of Flight is from kolkata to Delhi Of business class from Airline Vistara**"
   ]
  },
  {
   "cell_type": "code",
   "execution_count": 45,
   "id": "f3ff3c66",
   "metadata": {},
   "outputs": [
    {
     "data": {
      "text/html": [
       "<div>\n",
       "<style scoped>\n",
       "    .dataframe tbody tr th:only-of-type {\n",
       "        vertical-align: middle;\n",
       "    }\n",
       "\n",
       "    .dataframe tbody tr th {\n",
       "        vertical-align: top;\n",
       "    }\n",
       "\n",
       "    .dataframe thead th {\n",
       "        text-align: right;\n",
       "    }\n",
       "</style>\n",
       "<table border=\"1\" class=\"dataframe\">\n",
       "  <thead>\n",
       "    <tr style=\"text-align: right;\">\n",
       "      <th></th>\n",
       "      <th>duration</th>\n",
       "      <th>days_left</th>\n",
       "      <th>price</th>\n",
       "    </tr>\n",
       "  </thead>\n",
       "  <tbody>\n",
       "    <tr>\n",
       "      <th>duration</th>\n",
       "      <td>1.000000</td>\n",
       "      <td>-0.039157</td>\n",
       "      <td>0.204222</td>\n",
       "    </tr>\n",
       "    <tr>\n",
       "      <th>days_left</th>\n",
       "      <td>-0.039157</td>\n",
       "      <td>1.000000</td>\n",
       "      <td>-0.091949</td>\n",
       "    </tr>\n",
       "    <tr>\n",
       "      <th>price</th>\n",
       "      <td>0.204222</td>\n",
       "      <td>-0.091949</td>\n",
       "      <td>1.000000</td>\n",
       "    </tr>\n",
       "  </tbody>\n",
       "</table>\n",
       "</div>"
      ],
      "text/plain": [
       "           duration  days_left     price\n",
       "duration   1.000000  -0.039157  0.204222\n",
       "days_left -0.039157   1.000000 -0.091949\n",
       "price      0.204222  -0.091949  1.000000"
      ]
     },
     "execution_count": 45,
     "metadata": {},
     "output_type": "execute_result"
    }
   ],
   "source": [
    "flightfare.corr()"
   ]
  },
  {
   "cell_type": "code",
   "execution_count": 46,
   "id": "75bb57ed",
   "metadata": {},
   "outputs": [
    {
     "data": {
      "image/png": "[encoded data removed]",
      "text/plain": [
       "<Figure size 1800x1800 with 2 Axes>"
      ]
     },
     "metadata": {},
     "output_type": "display_data"
    }
   ],
   "source": [
    "plt.figure(figsize = (18,18))\n",
    "sns.heatmap(flightfare.corr(), annot = True)\n",
    "\n",
    "plt.show()"
   ]
  },
  {
   "cell_type": "code",
   "execution_count": 47,
   "id": "03026b76",
   "metadata": {},
   "outputs": [],
   "source": [
    "df=flightfare.copy()"
   ]
  },
  {
   "cell_type": "code",
   "execution_count": 48,
   "id": "399a5186",
   "metadata": {},
   "outputs": [
    {
     "data": {
      "text/plain": [
       "0        Delhi\n",
       "1       Mumbai\n",
       "2    Bangalore\n",
       "3      Kolkata\n",
       "4    Hyderabad\n",
       "5      Chennai\n",
       "dtype: object"
      ]
     },
     "execution_count": 48,
     "metadata": {},
     "output_type": "execute_result"
    }
   ],
   "source": [
    "source = flightfare['source_city'].unique()\n",
    "source = pd.Series(source, index=range(len(source)))\n",
    "source"
   ]
  },
  {
   "cell_type": "code",
   "execution_count": 49,
   "id": "ca33f525",
   "metadata": {},
   "outputs": [
    {
     "data": {
      "text/plain": [
       "0       Mumbai\n",
       "1    Bangalore\n",
       "2      Kolkata\n",
       "3    Hyderabad\n",
       "4      Chennai\n",
       "5        Delhi\n",
       "dtype: object"
      ]
     },
     "execution_count": 49,
     "metadata": {},
     "output_type": "execute_result"
    }
   ],
   "source": [
    "destination = flightfare['destination_city'].unique()\n",
    "destination = pd.Series(destination, index=range(len(destination)))\n",
    "destination"
   ]
  },
  {
   "cell_type": "code",
   "execution_count": null,
   "id": "fff5d7e2",
   "metadata": {},
   "outputs": [],
   "source": []
  },
  {
   "cell_type": "code",
   "execution_count": 50,
   "id": "46765716",
   "metadata": {},
   "outputs": [],
   "source": [
    "df['source_city'] = df['source_city'].map(dict(zip(source, range(len(source)))))\n",
    "df['destination_city'] = df['destination_city'].map(dict(zip(destination, range(len(destination)))))"
   ]
  },
  {
   "cell_type": "code",
   "execution_count": 51,
   "id": "d201b73e",
   "metadata": {},
   "outputs": [
    {
     "data": {
      "text/plain": [
       "source_city         0.026990\n",
       "destination_city   -0.036952\n",
       "duration            0.204222\n",
       "days_left          -0.091949\n",
       "price               1.000000\n",
       "Name: price, dtype: float64"
      ]
     },
     "execution_count": 51,
     "metadata": {},
     "output_type": "execute_result"
    }
   ],
   "source": [
    "df.corr()['price']"
   ]
  },
  {
   "cell_type": "code",
   "execution_count": 52,
   "id": "142a795d",
   "metadata": {},
   "outputs": [
    {
     "data": {
      "image/png": "[encoded data removed]",
      "text/plain": [
       "<Figure size 640x480 with 2 Axes>"
      ]
     },
     "metadata": {},
     "output_type": "display_data"
    }
   ],
   "source": [
    "sns.heatmap(df.corr() , annot = True)\n",
    "plt.show()"
   ]
  },
  {
   "cell_type": "code",
   "execution_count": 53,
   "id": "c7976894",
   "metadata": {},
   "outputs": [],
   "source": [
    "# Get unique values of 'class' column\n",
    "class_values = flightfare['class'].unique()\n",
    "\n",
    "# Create a dictionary to map unique values to integers\n",
    "class_dict = {val: i for i, val in enumerate(class_values)}\n",
    "\n",
    "# Use the map function to replace values with their corresponding integer\n",
    "df['class'] = df['class'].map(class_dict)\n"
   ]
  },
  {
   "cell_type": "code",
   "execution_count": 54,
   "id": "80c2d37d",
   "metadata": {},
   "outputs": [
    {
     "data": {
      "text/plain": [
       "source_city         0.026990\n",
       "destination_city   -0.036952\n",
       "class               0.937860\n",
       "duration            0.204222\n",
       "days_left          -0.091949\n",
       "price               1.000000\n",
       "Name: price, dtype: float64"
      ]
     },
     "execution_count": 54,
     "metadata": {},
     "output_type": "execute_result"
    }
   ],
   "source": [
    "df.corr()['price']"
   ]
  },
  {
   "cell_type": "markdown",
   "id": "928d34bf",
   "metadata": {},
   "source": [
    "**here we can see class is highly correlated with price**"
   ]
  },
  {
   "cell_type": "markdown",
   "id": "6a878eea",
   "metadata": {},
   "source": [
    "# Conclusion\n"
   ]
  },
  {
   "cell_type": "markdown",
   "id": "1c75dbd6",
   "metadata": {},
   "source": [
    " Vistara Is most popular airline it captures major market share and on second air india comes.\n",
    "\n"
   ]
  },
  {
   "cell_type": "markdown",
   "id": "e57ad452",
   "metadata": {},
   "source": [
    "Vistara & Air India looks more succesful the reason might be they have there hands in both class economy as well as business even they have wide range of variety in their prices"
   ]
  },
  {
   "cell_type": "markdown",
   "id": "2fd0c3e7",
   "metadata": {},
   "source": [
    " If we leave air india and Vistara then among other airlines Spiccejet has Highest Average price"
   ]
  },
  {
   "cell_type": "markdown",
   "id": "2059bc8d",
   "metadata": {},
   "source": [
    " Vistara Sell Most Number of tickets and Spicejet lowest"
   ]
  },
  {
   "cell_type": "markdown",
   "id": "47247591",
   "metadata": {},
   "source": [
    "Mumbai And Delhi are Most frequently Travelled cities"
   ]
  },
  {
   "cell_type": "markdown",
   "id": "ee4646ab",
   "metadata": {},
   "source": [
    "The Lowest price of flight is from chennai to hyderabad of airlines- Indigo, AirAsia, Go First"
   ]
  },
  {
   "cell_type": "markdown",
   "id": "efe14334",
   "metadata": {},
   "source": [
    "The Highest Price of Flight is from kolkata to Delhi Of business class from Airline Vistara"
   ]
  },
  {
   "cell_type": "markdown",
   "id": "0a3d87b1",
   "metadata": {},
   "source": [
    "There is no relation of price from flight, stops, arrival time."
   ]
  },
  {
   "cell_type": "markdown",
   "id": "918393ce",
   "metadata": {},
   "source": [
    "There is relation between price and class "
   ]
  },
  {
   "cell_type": "markdown",
   "id": "b9ce18e3",
   "metadata": {},
   "source": [
    "# Modelling"
   ]
  },
  {
   "cell_type": "code",
   "execution_count": 55,
   "id": "562df83a",
   "metadata": {},
   "outputs": [
    {
     "data": {
      "text/plain": [
       "source_city         0.026990\n",
       "destination_city   -0.036952\n",
       "class               0.937860\n",
       "duration            0.204222\n",
       "days_left          -0.091949\n",
       "price               1.000000\n",
       "Name: price, dtype: float64"
      ]
     },
     "execution_count": 55,
     "metadata": {},
     "output_type": "execute_result"
    }
   ],
   "source": [
    "df.corr()['price']"
   ]
  },
  {
   "cell_type": "code",
   "execution_count": 56,
   "id": "cdad9d82",
   "metadata": {},
   "outputs": [
    {
     "name": "stdout",
     "output_type": "stream",
     "text": [
      "['airline', 'flight', 'departure_time', 'stops', 'arrival_time']\n",
      "['source_city', 'destination_city', 'class', 'duration', 'days_left', 'price']\n"
     ]
    }
   ],
   "source": [
    "#separating categorical and numerical columns\n",
    "categorical_columns = []\n",
    "numerical_columns = []\n",
    "\n",
    "for column in df.columns:\n",
    "    if (df[column].dtype == 'O'):\n",
    "        categorical_columns.append(column)\n",
    "    else:\n",
    "        numerical_columns.append(column)\n",
    "        \n",
    "print(categorical_columns)\n",
    "print(numerical_columns)"
   ]
  },
  {
   "cell_type": "code",
   "execution_count": 57,
   "id": "21a52445",
   "metadata": {},
   "outputs": [],
   "source": [
    "def label_encoding(arr):\n",
    "    uniq_cat = sorted(arr.unique())\n",
    "    cat_to_num = {}\n",
    "    for i in range(0, len(uniq_cat)):\n",
    "        cat_to_num[uniq_cat[i]] = i     \n",
    "    return cat_to_num\n",
    "\n",
    "for i in categorical_columns:\n",
    "    df[i+\"_encoded\"] = df[i].map(label_encoding(df[i]))"
   ]
  },
  {
   "cell_type": "code",
   "execution_count": 58,
   "id": "7797ba70",
   "metadata": {},
   "outputs": [],
   "source": [
    "from sklearn.preprocessing import LabelEncoder\n",
    "\n",
    "#doing this for all categorical_columns\n",
    "for i in categorical_columns:\n",
    "    label_encoder= LabelEncoder()\n",
    "    encoded_label = label_encoder.fit_transform(df[i])\n",
    "    df[i + \"_encoded\"] = encoded_label"
   ]
  },
  {
   "cell_type": "code",
   "execution_count": 59,
   "id": "e2355a9b",
   "metadata": {},
   "outputs": [
    {
     "data": {
      "text/plain": [
       "array(['Afternoon', 'Early_Morning', 'Evening', 'Late_Night', 'Morning',\n",
       "       'Night'], dtype=object)"
      ]
     },
     "execution_count": 59,
     "metadata": {},
     "output_type": "execute_result"
    }
   ],
   "source": [
    "label_encoder.inverse_transform([0,1,2,3,4,5])"
   ]
  },
  {
   "cell_type": "code",
   "execution_count": 60,
   "id": "0c074e61",
   "metadata": {},
   "outputs": [],
   "source": [
    "df = df.drop(categorical_columns, axis = 1)"
   ]
  },
  {
   "cell_type": "code",
   "execution_count": 61,
   "id": "7b32ad2b",
   "metadata": {},
   "outputs": [
    {
     "data": {
      "text/html": [
       "<div>\n",
       "<style scoped>\n",
       "    .dataframe tbody tr th:only-of-type {\n",
       "        vertical-align: middle;\n",
       "    }\n",
       "\n",
       "    .dataframe tbody tr th {\n",
       "        vertical-align: top;\n",
       "    }\n",
       "\n",
       "    .dataframe thead th {\n",
       "        text-align: right;\n",
       "    }\n",
       "</style>\n",
       "<table border=\"1\" class=\"dataframe\">\n",
       "  <thead>\n",
       "    <tr style=\"text-align: right;\">\n",
       "      <th></th>\n",
       "      <th>source_city</th>\n",
       "      <th>destination_city</th>\n",
       "      <th>class</th>\n",
       "      <th>duration</th>\n",
       "      <th>days_left</th>\n",
       "      <th>price</th>\n",
       "      <th>airline_encoded</th>\n",
       "      <th>flight_encoded</th>\n",
       "      <th>departure_time_encoded</th>\n",
       "      <th>stops_encoded</th>\n",
       "      <th>arrival_time_encoded</th>\n",
       "    </tr>\n",
       "  </thead>\n",
       "  <tbody>\n",
       "    <tr>\n",
       "      <th>0</th>\n",
       "      <td>0</td>\n",
       "      <td>0</td>\n",
       "      <td>0</td>\n",
       "      <td>2.17</td>\n",
       "      <td>1</td>\n",
       "      <td>5953</td>\n",
       "      <td>4</td>\n",
       "      <td>1408</td>\n",
       "      <td>2</td>\n",
       "      <td>2</td>\n",
       "      <td>5</td>\n",
       "    </tr>\n",
       "    <tr>\n",
       "      <th>1</th>\n",
       "      <td>0</td>\n",
       "      <td>0</td>\n",
       "      <td>0</td>\n",
       "      <td>2.33</td>\n",
       "      <td>1</td>\n",
       "      <td>5953</td>\n",
       "      <td>4</td>\n",
       "      <td>1387</td>\n",
       "      <td>1</td>\n",
       "      <td>2</td>\n",
       "      <td>4</td>\n",
       "    </tr>\n",
       "    <tr>\n",
       "      <th>2</th>\n",
       "      <td>0</td>\n",
       "      <td>0</td>\n",
       "      <td>0</td>\n",
       "      <td>2.17</td>\n",
       "      <td>1</td>\n",
       "      <td>5956</td>\n",
       "      <td>0</td>\n",
       "      <td>1213</td>\n",
       "      <td>1</td>\n",
       "      <td>2</td>\n",
       "      <td>1</td>\n",
       "    </tr>\n",
       "    <tr>\n",
       "      <th>3</th>\n",
       "      <td>0</td>\n",
       "      <td>0</td>\n",
       "      <td>0</td>\n",
       "      <td>2.25</td>\n",
       "      <td>1</td>\n",
       "      <td>5955</td>\n",
       "      <td>5</td>\n",
       "      <td>1559</td>\n",
       "      <td>4</td>\n",
       "      <td>2</td>\n",
       "      <td>0</td>\n",
       "    </tr>\n",
       "    <tr>\n",
       "      <th>4</th>\n",
       "      <td>0</td>\n",
       "      <td>0</td>\n",
       "      <td>0</td>\n",
       "      <td>2.33</td>\n",
       "      <td>1</td>\n",
       "      <td>5955</td>\n",
       "      <td>5</td>\n",
       "      <td>1549</td>\n",
       "      <td>4</td>\n",
       "      <td>2</td>\n",
       "      <td>4</td>\n",
       "    </tr>\n",
       "    <tr>\n",
       "      <th>...</th>\n",
       "      <td>...</td>\n",
       "      <td>...</td>\n",
       "      <td>...</td>\n",
       "      <td>...</td>\n",
       "      <td>...</td>\n",
       "      <td>...</td>\n",
       "      <td>...</td>\n",
       "      <td>...</td>\n",
       "      <td>...</td>\n",
       "      <td>...</td>\n",
       "      <td>...</td>\n",
       "    </tr>\n",
       "    <tr>\n",
       "      <th>300148</th>\n",
       "      <td>5</td>\n",
       "      <td>3</td>\n",
       "      <td>1</td>\n",
       "      <td>10.08</td>\n",
       "      <td>49</td>\n",
       "      <td>69265</td>\n",
       "      <td>5</td>\n",
       "      <td>1477</td>\n",
       "      <td>4</td>\n",
       "      <td>0</td>\n",
       "      <td>2</td>\n",
       "    </tr>\n",
       "    <tr>\n",
       "      <th>300149</th>\n",
       "      <td>5</td>\n",
       "      <td>3</td>\n",
       "      <td>1</td>\n",
       "      <td>10.42</td>\n",
       "      <td>49</td>\n",
       "      <td>77105</td>\n",
       "      <td>5</td>\n",
       "      <td>1481</td>\n",
       "      <td>0</td>\n",
       "      <td>0</td>\n",
       "      <td>5</td>\n",
       "    </tr>\n",
       "    <tr>\n",
       "      <th>300150</th>\n",
       "      <td>5</td>\n",
       "      <td>3</td>\n",
       "      <td>1</td>\n",
       "      <td>13.83</td>\n",
       "      <td>49</td>\n",
       "      <td>79099</td>\n",
       "      <td>5</td>\n",
       "      <td>1486</td>\n",
       "      <td>1</td>\n",
       "      <td>0</td>\n",
       "      <td>5</td>\n",
       "    </tr>\n",
       "    <tr>\n",
       "      <th>300151</th>\n",
       "      <td>5</td>\n",
       "      <td>3</td>\n",
       "      <td>1</td>\n",
       "      <td>10.00</td>\n",
       "      <td>49</td>\n",
       "      <td>81585</td>\n",
       "      <td>5</td>\n",
       "      <td>1483</td>\n",
       "      <td>1</td>\n",
       "      <td>0</td>\n",
       "      <td>2</td>\n",
       "    </tr>\n",
       "    <tr>\n",
       "      <th>300152</th>\n",
       "      <td>5</td>\n",
       "      <td>3</td>\n",
       "      <td>1</td>\n",
       "      <td>10.08</td>\n",
       "      <td>49</td>\n",
       "      <td>81585</td>\n",
       "      <td>5</td>\n",
       "      <td>1477</td>\n",
       "      <td>4</td>\n",
       "      <td>0</td>\n",
       "      <td>2</td>\n",
       "    </tr>\n",
       "  </tbody>\n",
       "</table>\n",
       "<p>300153 rows × 11 columns</p>\n",
       "</div>"
      ],
      "text/plain": [
       "        source_city  destination_city  class  duration  days_left  price  \\\n",
       "0                 0                 0      0      2.17          1   5953   \n",
       "1                 0                 0      0      2.33          1   5953   \n",
       "2                 0                 0      0      2.17          1   5956   \n",
       "3                 0                 0      0      2.25          1   5955   \n",
       "4                 0                 0      0      2.33          1   5955   \n",
       "...             ...               ...    ...       ...        ...    ...   \n",
       "300148            5                 3      1     10.08         49  69265   \n",
       "300149            5                 3      1     10.42         49  77105   \n",
       "300150            5                 3      1     13.83         49  79099   \n",
       "300151            5                 3      1     10.00         49  81585   \n",
       "300152            5                 3      1     10.08         49  81585   \n",
       "\n",
       "        airline_encoded  flight_encoded  departure_time_encoded  \\\n",
       "0                     4            1408                       2   \n",
       "1                     4            1387                       1   \n",
       "2                     0            1213                       1   \n",
       "3                     5            1559                       4   \n",
       "4                     5            1549                       4   \n",
       "...                 ...             ...                     ...   \n",
       "300148                5            1477                       4   \n",
       "300149                5            1481                       0   \n",
       "300150                5            1486                       1   \n",
       "300151                5            1483                       1   \n",
       "300152                5            1477                       4   \n",
       "\n",
       "        stops_encoded  arrival_time_encoded  \n",
       "0                   2                     5  \n",
       "1                   2                     4  \n",
       "2                   2                     1  \n",
       "3                   2                     0  \n",
       "4                   2                     4  \n",
       "...               ...                   ...  \n",
       "300148              0                     2  \n",
       "300149              0                     5  \n",
       "300150              0                     5  \n",
       "300151              0                     2  \n",
       "300152              0                     2  \n",
       "\n",
       "[300153 rows x 11 columns]"
      ]
     },
     "execution_count": 61,
     "metadata": {},
     "output_type": "execute_result"
    }
   ],
   "source": [
    "df"
   ]
  },
  {
   "cell_type": "code",
   "execution_count": 62,
   "id": "d7c9b3c2",
   "metadata": {},
   "outputs": [
    {
     "data": {
      "text/plain": [
       "0         0\n",
       "1         0\n",
       "2         0\n",
       "3         0\n",
       "4         0\n",
       "         ..\n",
       "300148    5\n",
       "300149    5\n",
       "300150    5\n",
       "300151    5\n",
       "300152    5\n",
       "Name: source_city, Length: 300153, dtype: int64"
      ]
     },
     "execution_count": 62,
     "metadata": {},
     "output_type": "execute_result"
    }
   ],
   "source": [
    "df.pop('source_city')"
   ]
  },
  {
   "cell_type": "code",
   "execution_count": 63,
   "id": "7e8888eb",
   "metadata": {},
   "outputs": [
    {
     "data": {
      "text/plain": [
       "0         0\n",
       "1         0\n",
       "2         0\n",
       "3         0\n",
       "4         0\n",
       "         ..\n",
       "300148    3\n",
       "300149    3\n",
       "300150    3\n",
       "300151    3\n",
       "300152    3\n",
       "Name: destination_city, Length: 300153, dtype: int64"
      ]
     },
     "execution_count": 63,
     "metadata": {},
     "output_type": "execute_result"
    }
   ],
   "source": [
    "df.pop('destination_city')"
   ]
  },
  {
   "cell_type": "code",
   "execution_count": 64,
   "id": "e79ebbae",
   "metadata": {},
   "outputs": [
    {
     "data": {
      "text/html": [
       "<div>\n",
       "<style scoped>\n",
       "    .dataframe tbody tr th:only-of-type {\n",
       "        vertical-align: middle;\n",
       "    }\n",
       "\n",
       "    .dataframe tbody tr th {\n",
       "        vertical-align: top;\n",
       "    }\n",
       "\n",
       "    .dataframe thead th {\n",
       "        text-align: right;\n",
       "    }\n",
       "</style>\n",
       "<table border=\"1\" class=\"dataframe\">\n",
       "  <thead>\n",
       "    <tr style=\"text-align: right;\">\n",
       "      <th></th>\n",
       "      <th>class</th>\n",
       "      <th>duration</th>\n",
       "      <th>days_left</th>\n",
       "      <th>price</th>\n",
       "      <th>airline_encoded</th>\n",
       "      <th>flight_encoded</th>\n",
       "      <th>departure_time_encoded</th>\n",
       "      <th>stops_encoded</th>\n",
       "      <th>arrival_time_encoded</th>\n",
       "    </tr>\n",
       "  </thead>\n",
       "  <tbody>\n",
       "    <tr>\n",
       "      <th>0</th>\n",
       "      <td>0</td>\n",
       "      <td>2.17</td>\n",
       "      <td>1</td>\n",
       "      <td>5953</td>\n",
       "      <td>4</td>\n",
       "      <td>1408</td>\n",
       "      <td>2</td>\n",
       "      <td>2</td>\n",
       "      <td>5</td>\n",
       "    </tr>\n",
       "    <tr>\n",
       "      <th>1</th>\n",
       "      <td>0</td>\n",
       "      <td>2.33</td>\n",
       "      <td>1</td>\n",
       "      <td>5953</td>\n",
       "      <td>4</td>\n",
       "      <td>1387</td>\n",
       "      <td>1</td>\n",
       "      <td>2</td>\n",
       "      <td>4</td>\n",
       "    </tr>\n",
       "    <tr>\n",
       "      <th>2</th>\n",
       "      <td>0</td>\n",
       "      <td>2.17</td>\n",
       "      <td>1</td>\n",
       "      <td>5956</td>\n",
       "      <td>0</td>\n",
       "      <td>1213</td>\n",
       "      <td>1</td>\n",
       "      <td>2</td>\n",
       "      <td>1</td>\n",
       "    </tr>\n",
       "    <tr>\n",
       "      <th>3</th>\n",
       "      <td>0</td>\n",
       "      <td>2.25</td>\n",
       "      <td>1</td>\n",
       "      <td>5955</td>\n",
       "      <td>5</td>\n",
       "      <td>1559</td>\n",
       "      <td>4</td>\n",
       "      <td>2</td>\n",
       "      <td>0</td>\n",
       "    </tr>\n",
       "    <tr>\n",
       "      <th>4</th>\n",
       "      <td>0</td>\n",
       "      <td>2.33</td>\n",
       "      <td>1</td>\n",
       "      <td>5955</td>\n",
       "      <td>5</td>\n",
       "      <td>1549</td>\n",
       "      <td>4</td>\n",
       "      <td>2</td>\n",
       "      <td>4</td>\n",
       "    </tr>\n",
       "    <tr>\n",
       "      <th>...</th>\n",
       "      <td>...</td>\n",
       "      <td>...</td>\n",
       "      <td>...</td>\n",
       "      <td>...</td>\n",
       "      <td>...</td>\n",
       "      <td>...</td>\n",
       "      <td>...</td>\n",
       "      <td>...</td>\n",
       "      <td>...</td>\n",
       "    </tr>\n",
       "    <tr>\n",
       "      <th>300148</th>\n",
       "      <td>1</td>\n",
       "      <td>10.08</td>\n",
       "      <td>49</td>\n",
       "      <td>69265</td>\n",
       "      <td>5</td>\n",
       "      <td>1477</td>\n",
       "      <td>4</td>\n",
       "      <td>0</td>\n",
       "      <td>2</td>\n",
       "    </tr>\n",
       "    <tr>\n",
       "      <th>300149</th>\n",
       "      <td>1</td>\n",
       "      <td>10.42</td>\n",
       "      <td>49</td>\n",
       "      <td>77105</td>\n",
       "      <td>5</td>\n",
       "      <td>1481</td>\n",
       "      <td>0</td>\n",
       "      <td>0</td>\n",
       "      <td>5</td>\n",
       "    </tr>\n",
       "    <tr>\n",
       "      <th>300150</th>\n",
       "      <td>1</td>\n",
       "      <td>13.83</td>\n",
       "      <td>49</td>\n",
       "      <td>79099</td>\n",
       "      <td>5</td>\n",
       "      <td>1486</td>\n",
       "      <td>1</td>\n",
       "      <td>0</td>\n",
       "      <td>5</td>\n",
       "    </tr>\n",
       "    <tr>\n",
       "      <th>300151</th>\n",
       "      <td>1</td>\n",
       "      <td>10.00</td>\n",
       "      <td>49</td>\n",
       "      <td>81585</td>\n",
       "      <td>5</td>\n",
       "      <td>1483</td>\n",
       "      <td>1</td>\n",
       "      <td>0</td>\n",
       "      <td>2</td>\n",
       "    </tr>\n",
       "    <tr>\n",
       "      <th>300152</th>\n",
       "      <td>1</td>\n",
       "      <td>10.08</td>\n",
       "      <td>49</td>\n",
       "      <td>81585</td>\n",
       "      <td>5</td>\n",
       "      <td>1477</td>\n",
       "      <td>4</td>\n",
       "      <td>0</td>\n",
       "      <td>2</td>\n",
       "    </tr>\n",
       "  </tbody>\n",
       "</table>\n",
       "<p>300153 rows × 9 columns</p>\n",
       "</div>"
      ],
      "text/plain": [
       "        class  duration  days_left  price  airline_encoded  flight_encoded  \\\n",
       "0           0      2.17          1   5953                4            1408   \n",
       "1           0      2.33          1   5953                4            1387   \n",
       "2           0      2.17          1   5956                0            1213   \n",
       "3           0      2.25          1   5955                5            1559   \n",
       "4           0      2.33          1   5955                5            1549   \n",
       "...       ...       ...        ...    ...              ...             ...   \n",
       "300148      1     10.08         49  69265                5            1477   \n",
       "300149      1     10.42         49  77105                5            1481   \n",
       "300150      1     13.83         49  79099                5            1486   \n",
       "300151      1     10.00         49  81585                5            1483   \n",
       "300152      1     10.08         49  81585                5            1477   \n",
       "\n",
       "        departure_time_encoded  stops_encoded  arrival_time_encoded  \n",
       "0                            2              2                     5  \n",
       "1                            1              2                     4  \n",
       "2                            1              2                     1  \n",
       "3                            4              2                     0  \n",
       "4                            4              2                     4  \n",
       "...                        ...            ...                   ...  \n",
       "300148                       4              0                     2  \n",
       "300149                       0              0                     5  \n",
       "300150                       1              0                     5  \n",
       "300151                       1              0                     2  \n",
       "300152                       4              0                     2  \n",
       "\n",
       "[300153 rows x 9 columns]"
      ]
     },
     "execution_count": 64,
     "metadata": {},
     "output_type": "execute_result"
    }
   ],
   "source": [
    "df"
   ]
  },
  {
   "cell_type": "markdown",
   "id": "302eadc2",
   "metadata": {},
   "source": [
    "# Linear Regression"
   ]
  },
  {
   "cell_type": "code",
   "execution_count": 65,
   "id": "2936b6b9",
   "metadata": {},
   "outputs": [],
   "source": [
    "from sklearn.model_selection import train_test_split"
   ]
  },
  {
   "cell_type": "code",
   "execution_count": 66,
   "id": "6c5249c0",
   "metadata": {},
   "outputs": [],
   "source": [
    "x = df.drop(\"price\" , axis = 1).values\n",
    "y = df['price'].values"
   ]
  },
  {
   "cell_type": "code",
   "execution_count": 67,
   "id": "893abfeb",
   "metadata": {},
   "outputs": [],
   "source": [
    "x_train , x_test , y_train , y_test = train_test_split(x,y , test_size= 0.3 , random_state= 38,shuffle=True)"
   ]
  },
  {
   "cell_type": "code",
   "execution_count": 68,
   "id": "37f6b8d8",
   "metadata": {},
   "outputs": [
    {
     "data": {
      "text/plain": [
       "LinearRegression()"
      ]
     },
     "execution_count": 68,
     "metadata": {},
     "output_type": "execute_result"
    }
   ],
   "source": [
    "from sklearn.linear_model import LinearRegression\n",
    "lin_reg = LinearRegression()\n",
    "lin_reg"
   ]
  },
  {
   "cell_type": "code",
   "execution_count": 69,
   "id": "d7602239",
   "metadata": {},
   "outputs": [
    {
     "data": {
      "text/plain": [
       "LinearRegression()"
      ]
     },
     "execution_count": 69,
     "metadata": {},
     "output_type": "execute_result"
    }
   ],
   "source": [
    "lin_reg.fit(x_train, y_train)"
   ]
  },
  {
   "cell_type": "code",
   "execution_count": 70,
   "id": "eb03036f",
   "metadata": {},
   "outputs": [],
   "source": [
    "y_pred = lin_reg.predict(x_train)"
   ]
  },
  {
   "cell_type": "code",
   "execution_count": 71,
   "id": "44425d27",
   "metadata": {},
   "outputs": [],
   "source": [
    "y_pred_test = lin_reg.predict(x_test)"
   ]
  },
  {
   "cell_type": "code",
   "execution_count": null,
   "id": "d0b2ebc5",
   "metadata": {},
   "outputs": [],
   "source": []
  },
  {
   "cell_type": "code",
   "execution_count": 120,
   "id": "bf832fcd",
   "metadata": {},
   "outputs": [
    {
     "data": {
      "text/html": [
       "<div>\n",
       "<style scoped>\n",
       "    .dataframe tbody tr th:only-of-type {\n",
       "        vertical-align: middle;\n",
       "    }\n",
       "\n",
       "    .dataframe tbody tr th {\n",
       "        vertical-align: top;\n",
       "    }\n",
       "\n",
       "    .dataframe thead th {\n",
       "        text-align: right;\n",
       "    }\n",
       "</style>\n",
       "<table border=\"1\" class=\"dataframe\">\n",
       "  <thead>\n",
       "    <tr style=\"text-align: right;\">\n",
       "      <th></th>\n",
       "      <th>Y_test</th>\n",
       "      <th>Y_pred</th>\n",
       "    </tr>\n",
       "  </thead>\n",
       "  <tbody>\n",
       "    <tr>\n",
       "      <th>0</th>\n",
       "      <td>60160</td>\n",
       "      <td>54791.280221</td>\n",
       "    </tr>\n",
       "    <tr>\n",
       "      <th>1</th>\n",
       "      <td>4165</td>\n",
       "      <td>4853.658068</td>\n",
       "    </tr>\n",
       "    <tr>\n",
       "      <th>2</th>\n",
       "      <td>5817</td>\n",
       "      <td>5619.740508</td>\n",
       "    </tr>\n",
       "    <tr>\n",
       "      <th>3</th>\n",
       "      <td>13467</td>\n",
       "      <td>10475.765652</td>\n",
       "    </tr>\n",
       "    <tr>\n",
       "      <th>4</th>\n",
       "      <td>49896</td>\n",
       "      <td>51312.934159</td>\n",
       "    </tr>\n",
       "    <tr>\n",
       "      <th>5</th>\n",
       "      <td>3393</td>\n",
       "      <td>5493.674209</td>\n",
       "    </tr>\n",
       "    <tr>\n",
       "      <th>6</th>\n",
       "      <td>4792</td>\n",
       "      <td>11565.606444</td>\n",
       "    </tr>\n",
       "    <tr>\n",
       "      <th>7</th>\n",
       "      <td>3862</td>\n",
       "      <td>-215.641489</td>\n",
       "    </tr>\n",
       "    <tr>\n",
       "      <th>8</th>\n",
       "      <td>42457</td>\n",
       "      <td>54056.462219</td>\n",
       "    </tr>\n",
       "    <tr>\n",
       "      <th>9</th>\n",
       "      <td>3916</td>\n",
       "      <td>4622.509313</td>\n",
       "    </tr>\n",
       "  </tbody>\n",
       "</table>\n",
       "</div>"
      ],
      "text/plain": [
       "   Y_test        Y_pred\n",
       "0   60160  54791.280221\n",
       "1    4165   4853.658068\n",
       "2    5817   5619.740508\n",
       "3   13467  10475.765652\n",
       "4   49896  51312.934159\n",
       "5    3393   5493.674209\n",
       "6    4792  11565.606444\n",
       "7    3862   -215.641489\n",
       "8   42457  54056.462219\n",
       "9    3916   4622.509313"
      ]
     },
     "execution_count": 120,
     "metadata": {},
     "output_type": "execute_result"
    }
   ],
   "source": [
    "df_test = pd.DataFrame({\"Y_test\": y_test , \"Y_pred\" : y_pred_test})\n",
    "df_test.head(10)"
   ]
  },
  {
   "cell_type": "code",
   "execution_count": null,
   "id": "891d0ad8",
   "metadata": {},
   "outputs": [],
   "source": []
  },
  {
   "cell_type": "code",
   "execution_count": 77,
   "id": "1ee22fa4",
   "metadata": {},
   "outputs": [
    {
     "name": "stdout",
     "output_type": "stream",
     "text": [
      "For Training Set\n",
      "MSE: 49191756.66580903\n",
      "RMSE: 7013.6835304858905\n",
      "MAE: 4632.190793851782\n",
      "MAPE: 0.4350422410476322\n",
      "r2_score: 0.9045844813752305\n"
     ]
    }
   ],
   "source": [
    "#model evaluation\n",
    "\n",
    "from sklearn.metrics import mean_squared_error, mean_absolute_error, mean_absolute_percentage_error, r2_score\n",
    "print(\"For Training Set\")\n",
    "\n",
    "print(\"MSE:\", mean_squared_error(y_train, y_pred))\n",
    "print(\"RMSE:\", np.sqrt(mean_squared_error(y_train, y_pred)))\n",
    "\n",
    "print(\"MAE:\", mean_absolute_error(y_pred, y_train))\n",
    "print(\"MAPE:\", mean_absolute_percentage_error(y_train, y_pred))\n",
    "\n",
    "print(\"r2_score:\", r2_score(y_train, y_pred))\n"
   ]
  },
  {
   "cell_type": "code",
   "execution_count": 78,
   "id": "baa852b5",
   "metadata": {},
   "outputs": [
    {
     "name": "stdout",
     "output_type": "stream",
     "text": [
      "For Testing Set\n",
      "MSE: 49213955.332759544\n",
      "RMSE: 7015.265877553005\n",
      "MAE: 4631.514409563971\n",
      "MAPE: 0.4337329280965736\n",
      "r2_score: 0.9043149185133258\n"
     ]
    }
   ],
   "source": [
    "#model evaluation\n",
    "\n",
    "from sklearn.metrics import mean_squared_error, mean_absolute_error, mean_absolute_percentage_error, r2_score\n",
    "print(\"For Testing Set\")\n",
    "\n",
    "print(\"MSE:\", mean_squared_error(y_test, y_pred_test))\n",
    "print(\"RMSE:\", np.sqrt(mean_squared_error(y_test, y_pred_test)))\n",
    "\n",
    "print(\"MAE:\", mean_absolute_error(y_test, y_pred_test))\n",
    "print(\"MAPE:\", mean_absolute_percentage_error(y_test, y_pred_test))\n",
    "\n",
    "print(\"r2_score:\", r2_score(y_test, y_pred_test))\n"
   ]
  },
  {
   "cell_type": "code",
   "execution_count": 72,
   "id": "fdeff6de",
   "metadata": {},
   "outputs": [
    {
     "name": "stdout",
     "output_type": "stream",
     "text": [
      "0.9045844813752305\n",
      "0.9043149185133258\n"
     ]
    }
   ],
   "source": [
    "print(lin_reg.score(x_train , y_train))\n",
    "print(lin_reg.score(x_test , y_test))"
   ]
  },
  {
   "cell_type": "markdown",
   "id": "8ea9523b",
   "metadata": {},
   "source": [
    "**Here we get R2 Score of 90 on Training as well as Testing Dataset**"
   ]
  },
  {
   "cell_type": "markdown",
   "id": "ceb59675",
   "metadata": {},
   "source": [
    "# Ensemble Algorithm| ADA Boost"
   ]
  },
  {
   "cell_type": "code",
   "execution_count": 154,
   "id": "0fd8ef9d",
   "metadata": {},
   "outputs": [
    {
     "data": {
      "text/plain": [
       "AdaBoostRegressor(learning_rate=0.2, n_estimators=100)"
      ]
     },
     "execution_count": 154,
     "metadata": {},
     "output_type": "execute_result"
    }
   ],
   "source": [
    "from sklearn.ensemble import AdaBoostRegressor\n",
    "adb = AdaBoostRegressor(n_estimators = 100,\n",
    "                        learning_rate = 0.2)\n",
    "\n",
    "adb.fit(x_train, y_train)"
   ]
  },
  {
   "cell_type": "code",
   "execution_count": 157,
   "id": "75568e25",
   "metadata": {},
   "outputs": [],
   "source": [
    "ypred_train_ad = adb.predict(x_train)\n",
    "ypred_test_ad = adb.predict(x_test)"
   ]
  },
  {
   "cell_type": "code",
   "execution_count": 162,
   "id": "91ca9b7f",
   "metadata": {},
   "outputs": [
    {
     "data": {
      "text/html": [
       "<div>\n",
       "<style scoped>\n",
       "    .dataframe tbody tr th:only-of-type {\n",
       "        vertical-align: middle;\n",
       "    }\n",
       "\n",
       "    .dataframe tbody tr th {\n",
       "        vertical-align: top;\n",
       "    }\n",
       "\n",
       "    .dataframe thead th {\n",
       "        text-align: right;\n",
       "    }\n",
       "</style>\n",
       "<table border=\"1\" class=\"dataframe\">\n",
       "  <thead>\n",
       "    <tr style=\"text-align: right;\">\n",
       "      <th></th>\n",
       "      <th>Y_test</th>\n",
       "      <th>Y_pred_ad</th>\n",
       "    </tr>\n",
       "  </thead>\n",
       "  <tbody>\n",
       "    <tr>\n",
       "      <th>0</th>\n",
       "      <td>60160</td>\n",
       "      <td>59701.397383</td>\n",
       "    </tr>\n",
       "    <tr>\n",
       "      <th>1</th>\n",
       "      <td>4165</td>\n",
       "      <td>5591.967748</td>\n",
       "    </tr>\n",
       "    <tr>\n",
       "      <th>2</th>\n",
       "      <td>5817</td>\n",
       "      <td>5592.410412</td>\n",
       "    </tr>\n",
       "    <tr>\n",
       "      <th>3</th>\n",
       "      <td>13467</td>\n",
       "      <td>11415.053708</td>\n",
       "    </tr>\n",
       "    <tr>\n",
       "      <th>4</th>\n",
       "      <td>49896</td>\n",
       "      <td>49554.038064</td>\n",
       "    </tr>\n",
       "    <tr>\n",
       "      <th>5</th>\n",
       "      <td>3393</td>\n",
       "      <td>5592.410412</td>\n",
       "    </tr>\n",
       "    <tr>\n",
       "      <th>6</th>\n",
       "      <td>4792</td>\n",
       "      <td>9467.065855</td>\n",
       "    </tr>\n",
       "    <tr>\n",
       "      <th>7</th>\n",
       "      <td>3862</td>\n",
       "      <td>5591.967748</td>\n",
       "    </tr>\n",
       "    <tr>\n",
       "      <th>8</th>\n",
       "      <td>42457</td>\n",
       "      <td>59214.015348</td>\n",
       "    </tr>\n",
       "    <tr>\n",
       "      <th>9</th>\n",
       "      <td>3916</td>\n",
       "      <td>5591.967748</td>\n",
       "    </tr>\n",
       "    <tr>\n",
       "      <th>10</th>\n",
       "      <td>5489</td>\n",
       "      <td>5592.410412</td>\n",
       "    </tr>\n",
       "    <tr>\n",
       "      <th>11</th>\n",
       "      <td>3334</td>\n",
       "      <td>5768.291839</td>\n",
       "    </tr>\n",
       "    <tr>\n",
       "      <th>12</th>\n",
       "      <td>49725</td>\n",
       "      <td>49534.171266</td>\n",
       "    </tr>\n",
       "    <tr>\n",
       "      <th>13</th>\n",
       "      <td>44144</td>\n",
       "      <td>59969.082148</td>\n",
       "    </tr>\n",
       "    <tr>\n",
       "      <th>14</th>\n",
       "      <td>7425</td>\n",
       "      <td>10927.054207</td>\n",
       "    </tr>\n",
       "    <tr>\n",
       "      <th>15</th>\n",
       "      <td>61933</td>\n",
       "      <td>59214.015348</td>\n",
       "    </tr>\n",
       "    <tr>\n",
       "      <th>16</th>\n",
       "      <td>7489</td>\n",
       "      <td>10167.391391</td>\n",
       "    </tr>\n",
       "    <tr>\n",
       "      <th>17</th>\n",
       "      <td>60260</td>\n",
       "      <td>49554.038064</td>\n",
       "    </tr>\n",
       "    <tr>\n",
       "      <th>18</th>\n",
       "      <td>50271</td>\n",
       "      <td>49554.038064</td>\n",
       "    </tr>\n",
       "    <tr>\n",
       "      <th>19</th>\n",
       "      <td>5523</td>\n",
       "      <td>5592.410412</td>\n",
       "    </tr>\n",
       "  </tbody>\n",
       "</table>\n",
       "</div>"
      ],
      "text/plain": [
       "    Y_test     Y_pred_ad\n",
       "0    60160  59701.397383\n",
       "1     4165   5591.967748\n",
       "2     5817   5592.410412\n",
       "3    13467  11415.053708\n",
       "4    49896  49554.038064\n",
       "5     3393   5592.410412\n",
       "6     4792   9467.065855\n",
       "7     3862   5591.967748\n",
       "8    42457  59214.015348\n",
       "9     3916   5591.967748\n",
       "10    5489   5592.410412\n",
       "11    3334   5768.291839\n",
       "12   49725  49534.171266\n",
       "13   44144  59969.082148\n",
       "14    7425  10927.054207\n",
       "15   61933  59214.015348\n",
       "16    7489  10167.391391\n",
       "17   60260  49554.038064\n",
       "18   50271  49554.038064\n",
       "19    5523   5592.410412"
      ]
     },
     "execution_count": 162,
     "metadata": {},
     "output_type": "execute_result"
    }
   ],
   "source": [
    "df_test_ad = pd.DataFrame({\"Y_test\": y_test , \"Y_pred_ad\" : ypred_test_ad})\n",
    "df_test_ad.head(20)"
   ]
  },
  {
   "cell_type": "code",
   "execution_count": 159,
   "id": "2ba85a1a",
   "metadata": {},
   "outputs": [
    {
     "name": "stdout",
     "output_type": "stream",
     "text": [
      "For Training Set\n",
      "MSE: 33436564.222763125\n",
      "RMSE: 5782.4358381881875\n",
      "MAE: 3669.0975827045227\n",
      "MAPE: 0.32331129875320164\n",
      "r2_score: 0.935144273500547\n"
     ]
    }
   ],
   "source": [
    "#model evaluation\n",
    "\n",
    "from sklearn.metrics import mean_squared_error, mean_absolute_error, mean_absolute_percentage_error, r2_score\n",
    "print(\"For Training Set\")\n",
    "\n",
    "print(\"MSE:\", mean_squared_error(y_train, ypred_train_ad))\n",
    "print(\"RMSE:\", np.sqrt(mean_squared_error(y_train, ypred_train_ad)))\n",
    "\n",
    "print(\"MAE:\", mean_absolute_error(ypred_train_ad, y_train))\n",
    "print(\"MAPE:\", mean_absolute_percentage_error(y_train, ypred_train_ad))\n",
    "\n",
    "print(\"r2_score:\", r2_score(y_train, ypred_train_ad))"
   ]
  },
  {
   "cell_type": "code",
   "execution_count": 160,
   "id": "81201758",
   "metadata": {},
   "outputs": [
    {
     "name": "stdout",
     "output_type": "stream",
     "text": [
      "For Testing Set\n",
      "MSE: 33356291.137091868\n",
      "RMSE: 5775.490553805093\n",
      "MAE: 3673.504610357409\n",
      "MAPE: 0.32355970374418963\n",
      "r2_score: 0.9351464556350891\n"
     ]
    }
   ],
   "source": [
    "#model evaluation\n",
    "\n",
    "from sklearn.metrics import mean_squared_error, mean_absolute_error, mean_absolute_percentage_error, r2_score\n",
    "print(\"For Testing Set\")\n",
    "\n",
    "print(\"MSE:\", mean_squared_error(y_test, ypred_test_ad))\n",
    "print(\"RMSE:\", np.sqrt(mean_squared_error(y_test, ypred_test_ad)))\n",
    "\n",
    "print(\"MAE:\", mean_absolute_error(y_test, ypred_test_ad))\n",
    "print(\"MAPE:\", mean_absolute_percentage_error(y_test, ypred_test_ad))\n",
    "\n",
    "print(\"r2_score:\", r2_score(y_test, ypred_test_ad))\n"
   ]
  },
  {
   "cell_type": "code",
   "execution_count": 156,
   "id": "54b99148",
   "metadata": {},
   "outputs": [
    {
     "name": "stdout",
     "output_type": "stream",
     "text": [
      "0.935144273500547\n",
      "0.9351464556350891\n"
     ]
    }
   ],
   "source": [
    "print(adb.score(x_train , y_train))\n",
    "print(adb.score(x_test , y_test))"
   ]
  },
  {
   "cell_type": "markdown",
   "id": "6544bc45",
   "metadata": {},
   "source": [
    "**Here we get R2 Score of 93 on Training as well as Testing Dataset**"
   ]
  },
  {
   "cell_type": "markdown",
   "id": "4f4988c4",
   "metadata": {},
   "source": [
    "# Random Forest"
   ]
  },
  {
   "cell_type": "code",
   "execution_count": 144,
   "id": "259b8a3a",
   "metadata": {},
   "outputs": [
    {
     "data": {
      "text/plain": [
       "RandomForestRegressor()"
      ]
     },
     "execution_count": 144,
     "metadata": {},
     "output_type": "execute_result"
    }
   ],
   "source": [
    "from sklearn.ensemble import RandomForestRegressor\n",
    "reg_rf = RandomForestRegressor()\n",
    "reg_rf.fit(x_train, y_train)"
   ]
  },
  {
   "cell_type": "code",
   "execution_count": 145,
   "id": "5fad1993",
   "metadata": {},
   "outputs": [],
   "source": [
    "y_pred_rfg = reg_rf.predict(x_train)"
   ]
  },
  {
   "cell_type": "code",
   "execution_count": 146,
   "id": "26340b9e",
   "metadata": {},
   "outputs": [],
   "source": [
    "y_pred_rfg_test = reg_rf.predict(x_test)"
   ]
  },
  {
   "cell_type": "code",
   "execution_count": 147,
   "id": "617201d1",
   "metadata": {},
   "outputs": [
    {
     "name": "stdout",
     "output_type": "stream",
     "text": [
      "For Training Set\n",
      "MSE: 1350625.2856125883\n",
      "RMSE: 1162.164052796587\n",
      "MAE: 478.81359430542267\n",
      "MAPE: 0.031687361452559605\n",
      "r2_score: 0.9973802396818241\n"
     ]
    }
   ],
   "source": [
    "#model evaluation\n",
    "\n",
    "from sklearn.metrics import mean_squared_error, mean_absolute_error, mean_absolute_percentage_error, r2_score\n",
    "print(\"For Training Set\")\n",
    "\n",
    "print(\"MSE:\", mean_squared_error(y_train, y_pred_rfg))\n",
    "print(\"RMSE:\", np.sqrt(mean_squared_error(y_train, y_pred_rfg)))\n",
    "\n",
    "print(\"MAE:\", mean_absolute_error(y_pred_rfg, y_train))\n",
    "print(\"MAPE:\", mean_absolute_percentage_error(y_train, y_pred_rfg))\n",
    "\n",
    "print(\"r2_score:\", r2_score(y_train, y_pred_rfg))"
   ]
  },
  {
   "cell_type": "code",
   "execution_count": 148,
   "id": "dc1cfe59",
   "metadata": {
    "scrolled": true
   },
   "outputs": [
    {
     "name": "stdout",
     "output_type": "stream",
     "text": [
      "For Testing Set\n",
      "MSE: 7795162.607063504\n",
      "RMSE: 2791.9818421801215\n",
      "MAE: 1182.6681328921784\n",
      "MAPE: 0.07977774953055405\n",
      "r2_score: 0.9848441206520491\n"
     ]
    }
   ],
   "source": [
    "#model evaluation\n",
    "\n",
    "from sklearn.metrics import mean_squared_error, mean_absolute_error, mean_absolute_percentage_error, r2_score\n",
    "print(\"For Testing Set\")\n",
    "\n",
    "print(\"MSE:\", mean_squared_error(y_test, y_pred_rfg_test))\n",
    "print(\"RMSE:\", np.sqrt(mean_squared_error(y_test, y_pred_rfg_test)))\n",
    "\n",
    "print(\"MAE:\", mean_absolute_error(y_test, y_pred_rfg_test))\n",
    "print(\"MAPE:\", mean_absolute_percentage_error(y_test, y_pred_rfg_test))\n",
    "\n",
    "print(\"r2_score:\", r2_score(y_test, y_pred_rfg_test))\n"
   ]
  },
  {
   "cell_type": "code",
   "execution_count": 149,
   "id": "30f0e5ad",
   "metadata": {
    "scrolled": true
   },
   "outputs": [
    {
     "data": {
      "text/html": [
       "<div>\n",
       "<style scoped>\n",
       "    .dataframe tbody tr th:only-of-type {\n",
       "        vertical-align: middle;\n",
       "    }\n",
       "\n",
       "    .dataframe tbody tr th {\n",
       "        vertical-align: top;\n",
       "    }\n",
       "\n",
       "    .dataframe thead th {\n",
       "        text-align: right;\n",
       "    }\n",
       "</style>\n",
       "<table border=\"1\" class=\"dataframe\">\n",
       "  <thead>\n",
       "    <tr style=\"text-align: right;\">\n",
       "      <th></th>\n",
       "      <th>Y_test</th>\n",
       "      <th>Y_pred_rfg</th>\n",
       "    </tr>\n",
       "  </thead>\n",
       "  <tbody>\n",
       "    <tr>\n",
       "      <th>0</th>\n",
       "      <td>60160</td>\n",
       "      <td>62307.040000</td>\n",
       "    </tr>\n",
       "    <tr>\n",
       "      <th>1</th>\n",
       "      <td>4165</td>\n",
       "      <td>4165.000000</td>\n",
       "    </tr>\n",
       "    <tr>\n",
       "      <th>2</th>\n",
       "      <td>5817</td>\n",
       "      <td>5913.550000</td>\n",
       "    </tr>\n",
       "    <tr>\n",
       "      <th>3</th>\n",
       "      <td>13467</td>\n",
       "      <td>11637.300000</td>\n",
       "    </tr>\n",
       "    <tr>\n",
       "      <th>4</th>\n",
       "      <td>49896</td>\n",
       "      <td>49896.000000</td>\n",
       "    </tr>\n",
       "    <tr>\n",
       "      <th>5</th>\n",
       "      <td>3393</td>\n",
       "      <td>3379.410000</td>\n",
       "    </tr>\n",
       "    <tr>\n",
       "      <th>6</th>\n",
       "      <td>4792</td>\n",
       "      <td>5584.090000</td>\n",
       "    </tr>\n",
       "    <tr>\n",
       "      <th>7</th>\n",
       "      <td>3862</td>\n",
       "      <td>3862.000000</td>\n",
       "    </tr>\n",
       "    <tr>\n",
       "      <th>8</th>\n",
       "      <td>42457</td>\n",
       "      <td>42457.000000</td>\n",
       "    </tr>\n",
       "    <tr>\n",
       "      <th>9</th>\n",
       "      <td>3916</td>\n",
       "      <td>4253.240000</td>\n",
       "    </tr>\n",
       "    <tr>\n",
       "      <th>10</th>\n",
       "      <td>5489</td>\n",
       "      <td>5811.525000</td>\n",
       "    </tr>\n",
       "    <tr>\n",
       "      <th>11</th>\n",
       "      <td>3334</td>\n",
       "      <td>3334.000000</td>\n",
       "    </tr>\n",
       "    <tr>\n",
       "      <th>12</th>\n",
       "      <td>49725</td>\n",
       "      <td>49725.000000</td>\n",
       "    </tr>\n",
       "    <tr>\n",
       "      <th>13</th>\n",
       "      <td>44144</td>\n",
       "      <td>41224.673333</td>\n",
       "    </tr>\n",
       "    <tr>\n",
       "      <th>14</th>\n",
       "      <td>7425</td>\n",
       "      <td>8180.820000</td>\n",
       "    </tr>\n",
       "    <tr>\n",
       "      <th>15</th>\n",
       "      <td>61933</td>\n",
       "      <td>61933.000000</td>\n",
       "    </tr>\n",
       "    <tr>\n",
       "      <th>16</th>\n",
       "      <td>7489</td>\n",
       "      <td>7746.860000</td>\n",
       "    </tr>\n",
       "    <tr>\n",
       "      <th>17</th>\n",
       "      <td>60260</td>\n",
       "      <td>60260.000000</td>\n",
       "    </tr>\n",
       "    <tr>\n",
       "      <th>18</th>\n",
       "      <td>50271</td>\n",
       "      <td>61541.610000</td>\n",
       "    </tr>\n",
       "    <tr>\n",
       "      <th>19</th>\n",
       "      <td>5523</td>\n",
       "      <td>6693.366667</td>\n",
       "    </tr>\n",
       "  </tbody>\n",
       "</table>\n",
       "</div>"
      ],
      "text/plain": [
       "    Y_test    Y_pred_rfg\n",
       "0    60160  62307.040000\n",
       "1     4165   4165.000000\n",
       "2     5817   5913.550000\n",
       "3    13467  11637.300000\n",
       "4    49896  49896.000000\n",
       "5     3393   3379.410000\n",
       "6     4792   5584.090000\n",
       "7     3862   3862.000000\n",
       "8    42457  42457.000000\n",
       "9     3916   4253.240000\n",
       "10    5489   5811.525000\n",
       "11    3334   3334.000000\n",
       "12   49725  49725.000000\n",
       "13   44144  41224.673333\n",
       "14    7425   8180.820000\n",
       "15   61933  61933.000000\n",
       "16    7489   7746.860000\n",
       "17   60260  60260.000000\n",
       "18   50271  61541.610000\n",
       "19    5523   6693.366667"
      ]
     },
     "execution_count": 149,
     "metadata": {},
     "output_type": "execute_result"
    }
   ],
   "source": [
    "df_test_rfg = pd.DataFrame({\"Y_test\": y_test , \"Y_pred_rfg\" : y_pred_rfg_test})\n",
    "df_test_rfg.head(20)"
   ]
  },
  {
   "cell_type": "code",
   "execution_count": 150,
   "id": "7b45573d",
   "metadata": {},
   "outputs": [
    {
     "name": "stdout",
     "output_type": "stream",
     "text": [
      "0.9973802396818241\n",
      "0.9848441206520491\n"
     ]
    }
   ],
   "source": [
    "print(reg_rf.score(x_train , y_train))\n",
    "print(reg_rf.score(x_test , y_test))"
   ]
  },
  {
   "cell_type": "markdown",
   "id": "3bb79f85",
   "metadata": {},
   "source": [
    "**Here We get R2 Score of 99 on Training Dataset**"
   ]
  },
  {
   "cell_type": "markdown",
   "id": "df196103",
   "metadata": {},
   "source": [
    "**Here we get R2 Score of 98 on Testing Dataset**"
   ]
  },
  {
   "cell_type": "markdown",
   "id": "86556169",
   "metadata": {},
   "source": [
    "# Among our three algorithms Random Forest Regression Perform well"
   ]
  },
  {
   "cell_type": "code",
   "execution_count": null,
   "id": "6f17718a",
   "metadata": {},
   "outputs": [],
   "source": []
  }
 ],
 "metadata": {
  "kernelspec": {
   "display_name": "Python 3 (ipykernel)",
   "language": "python",
   "name": "python3"
  },
  "language_info": {
   "codemirror_mode": {
    "name": "ipython",
    "version": 3
   },
   "file_extension": ".py",
   "mimetype": "text/x-python",
   "name": "python",
   "nbconvert_exporter": "python",
   "pygments_lexer": "ipython3",
   "version": "3.9.13"
  }
 },
 "nbformat": 4,
 "nbformat_minor": 5
}
